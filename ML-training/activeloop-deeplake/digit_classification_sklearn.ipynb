{
  "nbformat": 4,
  "nbformat_minor": 0,
  "metadata": {
    "colab": {
      "provenance": [],
      "include_colab_link": true
    },
    "kernelspec": {
      "name": "python3",
      "display_name": "Python 3"
    },
    "language_info": {
      "name": "python"
    }
  },
  "cells": [
    {
      "cell_type": "markdown",
      "metadata": {
        "id": "view-in-github",
        "colab_type": "text"
      },
      "source": [
        "<a href=\"https://colab.research.google.com/github/amiranissian/ai-ml-principles-exercises/blob/main/ML-training/activeloop-deeplake/digit_classification_sklearn.ipynb\" target=\"_parent\"><img src=\"https://colab.research.google.com/assets/colab-badge.svg\" alt=\"Open In Colab\"/></a>"
      ]
    },
    {
      "cell_type": "markdown",
      "source": [
        "# Load and explore the dataset\n",
        "The dataset used in this exersice is a digit recognition dataset from the *ActiveLoop* dataset hub."
      ],
      "metadata": {
        "id": "2p3q6Nf4pmpL"
      }
    },
    {
      "cell_type": "code",
      "execution_count": 51,
      "metadata": {
        "id": "gUAEmK8Q5Mlc",
        "outputId": "b133806d-7e84-463f-c2ae-b0ab5e375244",
        "colab": {
          "base_uri": "https://localhost:8080/"
        }
      },
      "outputs": [
        {
          "output_type": "stream",
          "name": "stdout",
          "text": [
            "Looking in indexes: https://pypi.org/simple, https://us-python.pkg.dev/colab-wheels/public/simple/\n",
            "Requirement already satisfied: deeplake in /usr/local/lib/python3.8/dist-packages (3.1.2)\n",
            "Requirement already satisfied: click in /usr/local/lib/python3.8/dist-packages (from deeplake) (7.1.2)\n",
            "Requirement already satisfied: boto3 in /usr/local/lib/python3.8/dist-packages (from deeplake) (1.26.24)\n",
            "Requirement already satisfied: pyjwt in /usr/local/lib/python3.8/dist-packages (from deeplake) (2.6.0)\n",
            "Requirement already satisfied: numcodecs in /usr/local/lib/python3.8/dist-packages (from deeplake) (0.10.2)\n",
            "Requirement already satisfied: hub>=2.8.7 in /usr/local/lib/python3.8/dist-packages (from deeplake) (3.0.1)\n",
            "Requirement already satisfied: pathos in /usr/local/lib/python3.8/dist-packages (from deeplake) (0.3.0)\n",
            "Requirement already satisfied: tqdm in /usr/local/lib/python3.8/dist-packages (from deeplake) (4.64.1)\n",
            "Requirement already satisfied: humbug>=0.2.6 in /usr/local/lib/python3.8/dist-packages (from deeplake) (0.2.7)\n",
            "Requirement already satisfied: pillow in /usr/local/lib/python3.8/dist-packages (from deeplake) (7.1.2)\n",
            "Requirement already satisfied: numpy in /usr/local/lib/python3.8/dist-packages (from deeplake) (1.21.6)\n",
            "Requirement already satisfied: requests in /usr/local/lib/python3.8/dist-packages (from humbug>=0.2.6->deeplake) (2.23.0)\n",
            "Requirement already satisfied: jmespath<2.0.0,>=0.7.1 in /usr/local/lib/python3.8/dist-packages (from boto3->deeplake) (1.0.1)\n",
            "Requirement already satisfied: botocore<1.30.0,>=1.29.24 in /usr/local/lib/python3.8/dist-packages (from boto3->deeplake) (1.29.24)\n",
            "Requirement already satisfied: s3transfer<0.7.0,>=0.6.0 in /usr/local/lib/python3.8/dist-packages (from boto3->deeplake) (0.6.0)\n",
            "Requirement already satisfied: urllib3<1.27,>=1.25.4 in /usr/local/lib/python3.8/dist-packages (from botocore<1.30.0,>=1.29.24->boto3->deeplake) (1.25.11)\n",
            "Requirement already satisfied: python-dateutil<3.0.0,>=2.1 in /usr/local/lib/python3.8/dist-packages (from botocore<1.30.0,>=1.29.24->boto3->deeplake) (2.8.2)\n",
            "Requirement already satisfied: six>=1.5 in /usr/local/lib/python3.8/dist-packages (from python-dateutil<3.0.0,>=2.1->botocore<1.30.0,>=1.29.24->boto3->deeplake) (1.15.0)\n",
            "Requirement already satisfied: entrypoints in /usr/local/lib/python3.8/dist-packages (from numcodecs->deeplake) (0.4)\n",
            "Requirement already satisfied: typing-extensions>=3.7.4 in /usr/local/lib/python3.8/dist-packages (from numcodecs->deeplake) (4.1.1)\n",
            "Requirement already satisfied: dill>=0.3.6 in /usr/local/lib/python3.8/dist-packages (from pathos->deeplake) (0.3.6)\n",
            "Requirement already satisfied: pox>=0.3.2 in /usr/local/lib/python3.8/dist-packages (from pathos->deeplake) (0.3.2)\n",
            "Requirement already satisfied: ppft>=1.7.6.6 in /usr/local/lib/python3.8/dist-packages (from pathos->deeplake) (1.7.6.6)\n",
            "Requirement already satisfied: multiprocess>=0.70.14 in /usr/local/lib/python3.8/dist-packages (from pathos->deeplake) (0.70.14)\n",
            "Requirement already satisfied: certifi>=2017.4.17 in /usr/local/lib/python3.8/dist-packages (from requests->humbug>=0.2.6->deeplake) (2022.9.24)\n",
            "Requirement already satisfied: idna<3,>=2.5 in /usr/local/lib/python3.8/dist-packages (from requests->humbug>=0.2.6->deeplake) (2.10)\n",
            "Requirement already satisfied: chardet<4,>=3.0.2 in /usr/local/lib/python3.8/dist-packages (from requests->humbug>=0.2.6->deeplake) (3.0.4)\n"
          ]
        }
      ],
      "source": [
        "!pip install deeplake\n",
        "\n",
        "import numpy as np\n",
        "import deeplake"
      ]
    },
    {
      "cell_type": "code",
      "source": [
        "ds_train = deeplake.load(\"hub://activeloop/mnist-train\")\n",
        "ds_test = deeplake.load(\"hub://activeloop/mnist-test\")"
      ],
      "metadata": {
        "id": "fM8sqZ-k5gyj",
        "outputId": "27413390-6d33-4eec-da1f-6fd020a79aeb",
        "colab": {
          "base_uri": "https://localhost:8080/"
        }
      },
      "execution_count": 2,
      "outputs": [
        {
          "output_type": "stream",
          "name": "stdout",
          "text": [
            "hub://activeloop/mnist-train loaded successfully.\n",
            "This dataset can be visualized in Jupyter Notebook by ds.visualize() or at https://app.activeloop.ai/activeloop/mnist-train\n",
            "hub://activeloop/mnist-test loaded successfully.\n",
            "This dataset can be visualized in Jupyter Notebook by ds.visualize() or at https://app.activeloop.ai/activeloop/mnist-test\n"
          ]
        }
      ]
    },
    {
      "cell_type": "code",
      "source": [
        "len(ds_train),len(ds_test)"
      ],
      "metadata": {
        "id": "6P2LCbCgxOQk",
        "outputId": "09b6bd26-f60e-4133-db1f-21d90742f2b0",
        "colab": {
          "base_uri": "https://localhost:8080/"
        }
      },
      "execution_count": 4,
      "outputs": [
        {
          "output_type": "execute_result",
          "data": {
            "text/plain": [
              "(60000, 10000)"
            ]
          },
          "metadata": {},
          "execution_count": 4
        }
      ]
    },
    {
      "cell_type": "code",
      "source": [
        "ds_test.tensors.keys()"
      ],
      "metadata": {
        "id": "eTPQTViH5kb6",
        "outputId": "f5582393-1802-4528-c143-b963d4c60f61",
        "colab": {
          "base_uri": "https://localhost:8080/"
        }
      },
      "execution_count": 5,
      "outputs": [
        {
          "output_type": "execute_result",
          "data": {
            "text/plain": [
              "dict_keys(['images', 'labels'])"
            ]
          },
          "metadata": {},
          "execution_count": 5
        }
      ]
    },
    {
      "cell_type": "code",
      "source": [
        "ds_test.images.shape"
      ],
      "metadata": {
        "id": "Vamil4Z7PHL5",
        "outputId": "15e67a0f-4289-446c-ecc0-27860899a71f",
        "colab": {
          "base_uri": "https://localhost:8080/"
        }
      },
      "execution_count": 6,
      "outputs": [
        {
          "output_type": "execute_result",
          "data": {
            "text/plain": [
              "(10000, 28, 28)"
            ]
          },
          "metadata": {},
          "execution_count": 6
        }
      ]
    },
    {
      "cell_type": "code",
      "source": [
        "#download all images\n",
        "ds_train.images.numpy().reshape((len(ds_train), -1)).shape"
      ],
      "metadata": {
        "id": "pyLc3SLkyNEy",
        "outputId": "327216ec-907d-4eda-d7ac-c658d53fe65c",
        "colab": {
          "base_uri": "https://localhost:8080/"
        }
      },
      "execution_count": 10,
      "outputs": [
        {
          "output_type": "execute_result",
          "data": {
            "text/plain": [
              "(60000, 784)"
            ]
          },
          "metadata": {},
          "execution_count": 10
        }
      ]
    },
    {
      "cell_type": "code",
      "source": [],
      "metadata": {
        "id": "ft3KABrBRQhm"
      },
      "execution_count": null,
      "outputs": []
    },
    {
      "cell_type": "code",
      "source": [
        "ds_test.labels.shape"
      ],
      "metadata": {
        "id": "Udv-UQNrPQJq"
      },
      "execution_count": null,
      "outputs": []
    },
    {
      "cell_type": "code",
      "source": [],
      "metadata": {
        "id": "VkBmF3tKyL12"
      },
      "execution_count": null,
      "outputs": []
    },
    {
      "cell_type": "code",
      "source": [
        "ds_test.labels.info"
      ],
      "metadata": {
        "id": "aRH0tE5APK--"
      },
      "execution_count": null,
      "outputs": []
    },
    {
      "cell_type": "code",
      "source": [
        "from PIL import Image\n",
        "\n",
        "i = 100\n",
        "print(ds_test.labels[i])\n",
        "Image.fromarray(ds_test.images[i].numpy(), \"L\").resize((100, 100), resample=Image.NEAREST)"
      ],
      "metadata": {
        "id": "o88OO8L05mvr"
      },
      "execution_count": null,
      "outputs": []
    },
    {
      "cell_type": "code",
      "source": [
        "# Show the maximum value in any of the first 100 image in the dataset\n",
        "np.max(ds_test.images[:100])"
      ],
      "metadata": {
        "id": "qg0S170V6Sa5"
      },
      "execution_count": null,
      "outputs": []
    },
    {
      "cell_type": "markdown",
      "source": [
        "# Train a model\n",
        "\n",
        "* Train a SVM classifier\n",
        "* Evaluate the classifier"
      ],
      "metadata": {
        "id": "x78HFg_YYtvq"
      }
    },
    {
      "cell_type": "code",
      "source": [
        "#download and flatten the Images\n",
        "X_train = ds_train.images.numpy().reshape((len(ds_train), -1))\n",
        "X_test = ds_test.images.numpy().reshape((len(ds_test), -1))"
      ],
      "metadata": {
        "id": "wNQwqpIBzLA3"
      },
      "execution_count": 42,
      "outputs": []
    },
    {
      "cell_type": "code",
      "source": [
        "#download lables\n",
        "y_train = ds_train.labels.numpy()\n",
        "y_test = ds_test.labels.numpy() "
      ],
      "metadata": {
        "id": "lhCpIGZUKZnS"
      },
      "execution_count": 43,
      "outputs": []
    },
    {
      "cell_type": "code",
      "source": [],
      "metadata": {
        "id": "Lz3Xm1t_RMP5"
      },
      "execution_count": null,
      "outputs": []
    },
    {
      "cell_type": "code",
      "source": [
        "X_train.shape"
      ],
      "metadata": {
        "id": "Y42WnFXULA0G",
        "outputId": "93a930b0-4f1f-40c8-dde8-bec09b970ce4",
        "colab": {
          "base_uri": "https://localhost:8080/"
        }
      },
      "execution_count": 44,
      "outputs": [
        {
          "output_type": "execute_result",
          "data": {
            "text/plain": [
              "(60000, 784)"
            ]
          },
          "metadata": {},
          "execution_count": 44
        }
      ]
    },
    {
      "cell_type": "code",
      "source": [
        "X_test.shape"
      ],
      "metadata": {
        "id": "tuaf0UYbL6xN",
        "outputId": "07491c3c-346f-471b-c7a7-380588512194",
        "colab": {
          "base_uri": "https://localhost:8080/"
        }
      },
      "execution_count": 45,
      "outputs": [
        {
          "output_type": "execute_result",
          "data": {
            "text/plain": [
              "(10000, 784)"
            ]
          },
          "metadata": {},
          "execution_count": 45
        }
      ]
    },
    {
      "cell_type": "code",
      "source": [
        "import numpy as np\n",
        "train_idx = np.random.choice(len(y_train), replace=False, size=10_000)\n",
        "train_idx = np.random.choice(len(y_train), replace=False, size=10_000)"
      ],
      "metadata": {
        "id": "VMBEvudzNnOI"
      },
      "execution_count": 53,
      "outputs": []
    },
    {
      "cell_type": "code",
      "source": [
        "from PIL import Image\n",
        "print(y_test[100])\n",
        "Image.fromarray(X_test[100].reshape((28,28)), \"L\").resize((100,100))\n"
      ],
      "metadata": {
        "id": "VLWYY9kWMAyL",
        "outputId": "af29c401-f09d-423a-b93e-239bbc0d1dd8",
        "colab": {
          "base_uri": "https://localhost:8080/",
          "height": 134
        }
      },
      "execution_count": 54,
      "outputs": [
        {
          "output_type": "stream",
          "name": "stdout",
          "text": [
            "[6]\n"
          ]
        },
        {
          "output_type": "execute_result",
          "data": {
            "text/plain": [
              "<PIL.Image.Image image mode=L size=100x100 at 0x7F824CF8ECA0>"
            ],
            "image/png": "[encoded data removed]"
          },
          "metadata": {},
          "execution_count": 54
        }
      ]
    },
    {
      "cell_type": "code",
      "source": [
        "# Randomly select 10k images to use for training\n",
        "train_idx = np.random.choice(range(len(ds_train)), replace=False, size=10_000)"
      ],
      "metadata": {
        "id": "IY8_STY-QgOa"
      },
      "execution_count": null,
      "outputs": []
    },
    {
      "cell_type": "code",
      "source": [
        "# Prefetch the datasets to RAM and reshape to flatten the images\n",
        "# Note that we could index the training samples using train_idx before\n",
        "# calling the numpy() method to download them, this would cause us to only\n",
        "# download the images we are actually going to use. In this particular case\n",
        "# where the images are tiny it is however faster to first download the full\n",
        "# dataset and then slice it, this is due to the chunking of downloads in deeplake.\n",
        "X_train = ds_train.images.numpy().reshape((len(ds_train), -1))[train_idx]\n",
        "X_test = ds_test.images.numpy().reshape((len(ds_test), -1))\n",
        "y_train = ds_train.labels[train_idx.tolist()].numpy().flatten()\n",
        "y_test = ds_test.labels.numpy().flatten()"
      ],
      "metadata": {
        "id": "lkBmWdZEZKp2"
      },
      "execution_count": null,
      "outputs": []
    },
    {
      "cell_type": "code",
      "source": [
        "from sklearn import svm"
      ],
      "metadata": {
        "id": "IONxkf3sao8t"
      },
      "execution_count": 55,
      "outputs": []
    },
    {
      "cell_type": "code",
      "source": [
        "model = svm.SVC()\n",
        "model.fit(X_train[train_idx], y_train[train_idx])"
      ],
      "metadata": {
        "id": "azNaF07yPD-y",
        "outputId": "eb19ac2a-170d-4bf1-d8be-f45fb8eac628",
        "colab": {
          "base_uri": "https://localhost:8080/"
        }
      },
      "execution_count": 58,
      "outputs": [
        {
          "output_type": "stream",
          "name": "stderr",
          "text": [
            "/usr/local/lib/python3.8/dist-packages/sklearn/utils/validation.py:993: DataConversionWarning: A column-vector y was passed when a 1d array was expected. Please change the shape of y to (n_samples, ), for example using ravel().\n",
            "  y = column_or_1d(y, warn=True)\n"
          ]
        },
        {
          "output_type": "execute_result",
          "data": {
            "text/plain": [
              "SVC()"
            ]
          },
          "metadata": {},
          "execution_count": 58
        }
      ]
    },
    {
      "cell_type": "code",
      "source": [
        "model = svm.SVC()\n",
        "model.fit(X_train, y_train)"
      ],
      "metadata": {
        "id": "dqxw46YMa_nj",
        "outputId": "d1bebb63-c772-4dc3-e8b0-79377720763a",
        "colab": {
          "base_uri": "https://localhost:8080/"
        }
      },
      "execution_count": 57,
      "outputs": [
        {
          "output_type": "stream",
          "name": "stderr",
          "text": [
            "/usr/local/lib/python3.8/dist-packages/sklearn/utils/validation.py:993: DataConversionWarning: A column-vector y was passed when a 1d array was expected. Please change the shape of y to (n_samples, ), for example using ravel().\n",
            "  y = column_or_1d(y, warn=True)\n"
          ]
        },
        {
          "output_type": "execute_result",
          "data": {
            "text/plain": [
              "SVC()"
            ]
          },
          "metadata": {},
          "execution_count": 57
        }
      ]
    },
    {
      "cell_type": "code",
      "source": [
        "# Predict the first ten samples from the test dataset\n",
        "model.predict(X_test[0:10])"
      ],
      "metadata": {
        "id": "Nrsjx9ambWBz",
        "outputId": "c04eff18-cc38-4aec-8b6c-19bac03aceb4",
        "colab": {
          "base_uri": "https://localhost:8080/"
        }
      },
      "execution_count": 59,
      "outputs": [
        {
          "output_type": "execute_result",
          "data": {
            "text/plain": [
              "array([7, 2, 1, 0, 4, 1, 4, 9, 6, 9], dtype=uint32)"
            ]
          },
          "metadata": {},
          "execution_count": 59
        }
      ]
    },
    {
      "cell_type": "code",
      "source": [
        "# Show the first ten ground truth values from the test dataset\n",
        "y_test[0:10].flatten()"
      ],
      "metadata": {
        "id": "bipSKzEZbfD3",
        "outputId": "6154891a-eccb-4a51-9e72-cf76d5bf41bd",
        "colab": {
          "base_uri": "https://localhost:8080/"
        }
      },
      "execution_count": 62,
      "outputs": [
        {
          "output_type": "execute_result",
          "data": {
            "text/plain": [
              "array([7, 2, 1, 0, 4, 1, 4, 9, 5, 9], dtype=uint32)"
            ]
          },
          "metadata": {},
          "execution_count": 62
        }
      ]
    },
    {
      "cell_type": "code",
      "source": [
        "# Compare predicted and true\n",
        "model.predict(X_test[0:10]) == y_test[0:10]"
      ],
      "metadata": {
        "id": "XLDZx1R2qgz5",
        "outputId": "bf4f4977-7545-4a93-bf48-b06ff4490c76",
        "colab": {
          "base_uri": "https://localhost:8080/"
        }
      },
      "execution_count": 63,
      "outputs": [
        {
          "output_type": "execute_result",
          "data": {
            "text/plain": [
              "array([[ True, False, False, False, False, False, False, False, False,\n",
              "        False],\n",
              "       [False,  True, False, False, False, False, False, False, False,\n",
              "        False],\n",
              "       [False, False,  True, False, False,  True, False, False, False,\n",
              "        False],\n",
              "       [False, False, False,  True, False, False, False, False, False,\n",
              "        False],\n",
              "       [False, False, False, False,  True, False,  True, False, False,\n",
              "        False],\n",
              "       [False, False,  True, False, False,  True, False, False, False,\n",
              "        False],\n",
              "       [False, False, False, False,  True, False,  True, False, False,\n",
              "        False],\n",
              "       [False, False, False, False, False, False, False,  True, False,\n",
              "         True],\n",
              "       [False, False, False, False, False, False, False, False, False,\n",
              "        False],\n",
              "       [False, False, False, False, False, False, False,  True, False,\n",
              "         True]])"
            ]
          },
          "metadata": {},
          "execution_count": 63
        }
      ]
    },
    {
      "cell_type": "code",
      "source": [
        "from sklearn import metrics\n",
        "\n",
        "predicted = model.predict(X_test)\n",
        "print(metrics.classification_report(y_test, predicted))"
      ],
      "metadata": {
        "id": "mcoqRsjRbmHW",
        "outputId": "eb3c1c8b-eb20-4470-dc9d-c1682a24d448",
        "colab": {
          "base_uri": "https://localhost:8080/"
        }
      },
      "execution_count": 64,
      "outputs": [
        {
          "output_type": "stream",
          "name": "stdout",
          "text": [
            "              precision    recall  f1-score   support\n",
            "\n",
            "           0       0.97      0.99      0.98       980\n",
            "           1       0.98      0.99      0.98      1135\n",
            "           2       0.96      0.95      0.96      1032\n",
            "           3       0.95      0.96      0.95      1010\n",
            "           4       0.95      0.96      0.96       982\n",
            "           5       0.96      0.95      0.95       892\n",
            "           6       0.97      0.97      0.97       958\n",
            "           7       0.96      0.95      0.96      1028\n",
            "           8       0.96      0.95      0.96       974\n",
            "           9       0.95      0.94      0.94      1009\n",
            "\n",
            "    accuracy                           0.96     10000\n",
            "   macro avg       0.96      0.96      0.96     10000\n",
            "weighted avg       0.96      0.96      0.96     10000\n",
            "\n"
          ]
        }
      ]
    },
    {
      "cell_type": "code",
      "source": [
        "metrics.ConfusionMatrixDisplay.from_predictions(y_test, predicted)"
      ],
      "metadata": {
        "id": "bjyeYWMUcGuD",
        "outputId": "b786b0c3-a726-48e1-8a52-aebbac802e8e",
        "colab": {
          "base_uri": "https://localhost:8080/",
          "height": 296
        }
      },
      "execution_count": 65,
      "outputs": [
        {
          "output_type": "execute_result",
          "data": {
            "text/plain": [
              "<sklearn.metrics._plot.confusion_matrix.ConfusionMatrixDisplay at 0x7f824517fd90>"
            ]
          },
          "metadata": {},
          "execution_count": 65
        },
        {
          "output_type": "display_data",
          "data": {
            "text/plain": [
              "<Figure size 432x288 with 2 Axes>"
            ],
            "image/png": "[encoded data removed]"
          },
          "metadata": {
            "needs_background": "light"
          }
        }
      ]
    },
    {
      "cell_type": "code",
      "source": [],
      "metadata": {
        "id": "_KQH1VygWQGj"
      },
      "execution_count": null,
      "outputs": []
    }
  ]
}