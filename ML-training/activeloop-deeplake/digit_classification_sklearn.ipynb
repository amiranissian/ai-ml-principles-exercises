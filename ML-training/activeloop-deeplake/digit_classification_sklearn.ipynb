{
  "nbformat": 4,
  "nbformat_minor": 0,
  "metadata": {
    "colab": {
      "provenance": [],
      "include_colab_link": true
    },
    "kernelspec": {
      "name": "python3",
      "display_name": "Python 3"
    },
    "language_info": {
      "name": "python"
    }
  },
  "cells": [
    {
      "cell_type": "markdown",
      "metadata": {
        "id": "view-in-github",
        "colab_type": "text"
      },
      "source": [
        "<a href=\"https://colab.research.google.com/github/amiranissian/ai-ml-principles-exercises/blob/main/ML-training/activeloop-deeplake/digit_classification_sklearn.ipynb\" target=\"_parent\"><img src=\"https://colab.research.google.com/assets/colab-badge.svg\" alt=\"Open In Colab\"/></a>"
      ]
    },
    {
      "cell_type": "markdown",
      "source": [
        "# Load and explore the dataset\n",
        "The dataset used in this exersice is a digit recognition dataset from the *ActiveLoop* dataset hub."
      ],
      "metadata": {
        "id": "2p3q6Nf4pmpL"
      }
    },
    {
      "cell_type": "code",
      "execution_count": 90,
      "metadata": {
        "id": "gUAEmK8Q5Mlc",
        "colab": {
          "base_uri": "https://localhost:8080/"
        },
        "outputId": "65a1f16c-d603-4666-c38e-8c6da928f542"
      },
      "outputs": [
        {
          "output_type": "stream",
          "name": "stdout",
          "text": [
            "Looking in indexes: https://pypi.org/simple, https://us-python.pkg.dev/colab-wheels/public/simple/\n",
            "Requirement already satisfied: deeplake in /usr/local/lib/python3.8/dist-packages (3.1.2)\n",
            "Requirement already satisfied: numpy in /usr/local/lib/python3.8/dist-packages (from deeplake) (1.21.6)\n",
            "Requirement already satisfied: boto3 in /usr/local/lib/python3.8/dist-packages (from deeplake) (1.26.24)\n",
            "Requirement already satisfied: numcodecs in /usr/local/lib/python3.8/dist-packages (from deeplake) (0.10.2)\n",
            "Requirement already satisfied: humbug>=0.2.6 in /usr/local/lib/python3.8/dist-packages (from deeplake) (0.2.7)\n",
            "Requirement already satisfied: tqdm in /usr/local/lib/python3.8/dist-packages (from deeplake) (4.64.1)\n",
            "Requirement already satisfied: pathos in /usr/local/lib/python3.8/dist-packages (from deeplake) (0.3.0)\n",
            "Requirement already satisfied: hub>=2.8.7 in /usr/local/lib/python3.8/dist-packages (from deeplake) (3.0.1)\n",
            "Requirement already satisfied: click in /usr/local/lib/python3.8/dist-packages (from deeplake) (7.1.2)\n",
            "Requirement already satisfied: pyjwt in /usr/local/lib/python3.8/dist-packages (from deeplake) (2.6.0)\n",
            "Requirement already satisfied: pillow in /usr/local/lib/python3.8/dist-packages (from deeplake) (7.1.2)\n",
            "Requirement already satisfied: requests in /usr/local/lib/python3.8/dist-packages (from humbug>=0.2.6->deeplake) (2.23.0)\n",
            "Requirement already satisfied: s3transfer<0.7.0,>=0.6.0 in /usr/local/lib/python3.8/dist-packages (from boto3->deeplake) (0.6.0)\n",
            "Requirement already satisfied: botocore<1.30.0,>=1.29.24 in /usr/local/lib/python3.8/dist-packages (from boto3->deeplake) (1.29.24)\n",
            "Requirement already satisfied: jmespath<2.0.0,>=0.7.1 in /usr/local/lib/python3.8/dist-packages (from boto3->deeplake) (1.0.1)\n",
            "Requirement already satisfied: python-dateutil<3.0.0,>=2.1 in /usr/local/lib/python3.8/dist-packages (from botocore<1.30.0,>=1.29.24->boto3->deeplake) (2.8.2)\n",
            "Requirement already satisfied: urllib3<1.27,>=1.25.4 in /usr/local/lib/python3.8/dist-packages (from botocore<1.30.0,>=1.29.24->boto3->deeplake) (1.25.11)\n",
            "Requirement already satisfied: six>=1.5 in /usr/local/lib/python3.8/dist-packages (from python-dateutil<3.0.0,>=2.1->botocore<1.30.0,>=1.29.24->boto3->deeplake) (1.15.0)\n",
            "Requirement already satisfied: entrypoints in /usr/local/lib/python3.8/dist-packages (from numcodecs->deeplake) (0.4)\n",
            "Requirement already satisfied: typing-extensions>=3.7.4 in /usr/local/lib/python3.8/dist-packages (from numcodecs->deeplake) (4.1.1)\n",
            "Requirement already satisfied: multiprocess>=0.70.14 in /usr/local/lib/python3.8/dist-packages (from pathos->deeplake) (0.70.14)\n",
            "Requirement already satisfied: ppft>=1.7.6.6 in /usr/local/lib/python3.8/dist-packages (from pathos->deeplake) (1.7.6.6)\n",
            "Requirement already satisfied: pox>=0.3.2 in /usr/local/lib/python3.8/dist-packages (from pathos->deeplake) (0.3.2)\n",
            "Requirement already satisfied: dill>=0.3.6 in /usr/local/lib/python3.8/dist-packages (from pathos->deeplake) (0.3.6)\n",
            "Requirement already satisfied: certifi>=2017.4.17 in /usr/local/lib/python3.8/dist-packages (from requests->humbug>=0.2.6->deeplake) (2022.9.24)\n",
            "Requirement already satisfied: chardet<4,>=3.0.2 in /usr/local/lib/python3.8/dist-packages (from requests->humbug>=0.2.6->deeplake) (3.0.4)\n",
            "Requirement already satisfied: idna<3,>=2.5 in /usr/local/lib/python3.8/dist-packages (from requests->humbug>=0.2.6->deeplake) (2.10)\n"
          ]
        }
      ],
      "source": [
        "!pip install deeplake\n",
        "\n",
        "import numpy as np\n",
        "import deeplake"
      ]
    },
    {
      "cell_type": "code",
      "source": [
        "ds_train = deeplake.load('hub://activeloop/fashion-mnist-test')\n",
        "ds_test = deeplake.load('hub://activeloop/fashion-mnist-test')"
      ],
      "metadata": {
        "id": "fM8sqZ-k5gyj",
        "colab": {
          "base_uri": "https://localhost:8080/"
        },
        "outputId": "3613a03d-955d-4bd3-e910-68d238fde5a9"
      },
      "execution_count": 96,
      "outputs": [
        {
          "output_type": "stream",
          "name": "stdout",
          "text": [
            "hub://activeloop/fashion-mnist-test loaded successfully.\n",
            "This dataset can be visualized in Jupyter Notebook by ds.visualize() or at https://app.activeloop.ai/activeloop/fashion-mnist-test\n",
            "hub://activeloop/fashion-mnist-test loaded successfully.\n",
            "This dataset can be visualized in Jupyter Notebook by ds.visualize() or at https://app.activeloop.ai/activeloop/fashion-mnist-test\n"
          ]
        }
      ]
    },
    {
      "cell_type": "code",
      "source": [
        "len(ds_train),len(ds_test)"
      ],
      "metadata": {
        "colab": {
          "base_uri": "https://localhost:8080/"
        },
        "id": "6P2LCbCgxOQk",
        "outputId": "2a755e5f-e290-4569-b80b-fa1525c1e03d"
      },
      "execution_count": 97,
      "outputs": [
        {
          "output_type": "execute_result",
          "data": {
            "text/plain": [
              "(10000, 10000)"
            ]
          },
          "metadata": {},
          "execution_count": 97
        }
      ]
    },
    {
      "cell_type": "code",
      "source": [
        "ds_test.tensors.keys()"
      ],
      "metadata": {
        "id": "eTPQTViH5kb6",
        "colab": {
          "base_uri": "https://localhost:8080/"
        },
        "outputId": "e6dfe6c6-dc6a-4d39-c489-44f988200e92"
      },
      "execution_count": 98,
      "outputs": [
        {
          "output_type": "execute_result",
          "data": {
            "text/plain": [
              "dict_keys(['images', 'labels'])"
            ]
          },
          "metadata": {},
          "execution_count": 98
        }
      ]
    },
    {
      "cell_type": "code",
      "source": [
        "ds_test.images.shape"
      ],
      "metadata": {
        "id": "Vamil4Z7PHL5",
        "colab": {
          "base_uri": "https://localhost:8080/"
        },
        "outputId": "af463956-ffaf-46cb-cdb0-14a0bc6e174e"
      },
      "execution_count": 99,
      "outputs": [
        {
          "output_type": "execute_result",
          "data": {
            "text/plain": [
              "(10000, 28, 28)"
            ]
          },
          "metadata": {},
          "execution_count": 99
        }
      ]
    },
    {
      "cell_type": "code",
      "source": [
        "#download all images\n",
        "ds_train.images.numpy().reshape((len(ds_train), -1)).shape"
      ],
      "metadata": {
        "colab": {
          "base_uri": "https://localhost:8080/"
        },
        "id": "pyLc3SLkyNEy",
        "outputId": "65358ac2-3e7a-4f33-dd9b-31dcc2adeaf5"
      },
      "execution_count": 100,
      "outputs": [
        {
          "output_type": "execute_result",
          "data": {
            "text/plain": [
              "(10000, 784)"
            ]
          },
          "metadata": {},
          "execution_count": 100
        }
      ]
    },
    {
      "cell_type": "code",
      "source": [],
      "metadata": {
        "id": "ft3KABrBRQhm"
      },
      "execution_count": null,
      "outputs": []
    },
    {
      "cell_type": "code",
      "source": [
        "ds_test.labels.shape"
      ],
      "metadata": {
        "id": "Udv-UQNrPQJq",
        "colab": {
          "base_uri": "https://localhost:8080/"
        },
        "outputId": "6b1890d7-b8f5-4df2-c52f-ca654e2f1b9a"
      },
      "execution_count": 101,
      "outputs": [
        {
          "output_type": "execute_result",
          "data": {
            "text/plain": [
              "(10000, 1)"
            ]
          },
          "metadata": {},
          "execution_count": 101
        }
      ]
    },
    {
      "cell_type": "code",
      "source": [],
      "metadata": {
        "id": "VkBmF3tKyL12"
      },
      "execution_count": null,
      "outputs": []
    },
    {
      "cell_type": "code",
      "source": [
        "ds_test.labels.info"
      ],
      "metadata": {
        "id": "aRH0tE5APK--",
        "colab": {
          "base_uri": "https://localhost:8080/"
        },
        "outputId": "b236c560-3b99-469e-8665-0140643735fd"
      },
      "execution_count": 102,
      "outputs": [
        {
          "output_type": "execute_result",
          "data": {
            "text/plain": [
              "{'class_names': {'0': 'T-shirt/top', '1': 'Trouser', '2': 'Pullover', '3': 'Dress', '4': 'Coat', '5': 'Sandal', '6': 'Shirt', '7': 'Sneaker', '8': 'Bag', '9': 'Ankle boot'}}"
            ]
          },
          "metadata": {},
          "execution_count": 102
        }
      ]
    },
    {
      "cell_type": "code",
      "source": [
        "from PIL import Image\n",
        "\n",
        "i = 100\n",
        "print(ds_test.labels[i])\n",
        "Image.fromarray(ds_test.images[i].numpy(), \"L\").resize((100, 100), resample=Image.NEAREST)"
      ],
      "metadata": {
        "id": "o88OO8L05mvr",
        "colab": {
          "base_uri": "https://localhost:8080/",
          "height": 134
        },
        "outputId": "cfad2b39-bec7-45cd-a386-9a78333ff2cd"
      },
      "execution_count": 128,
      "outputs": [
        {
          "output_type": "stream",
          "name": "stdout",
          "text": [
            "Tensor(key='labels', index=Index([100]))\n"
          ]
        },
        {
          "output_type": "execute_result",
          "data": {
            "text/plain": [
              "<PIL.Image.Image image mode=L size=100x100 at 0x7F824027A6A0>"
            ],
            "image/png": "[encoded data removed]"
          },
          "metadata": {},
          "execution_count": 128
        }
      ]
    },
    {
      "cell_type": "code",
      "source": [
        "# Show the maximum value in any of the first 100 image in the dataset\n",
        "np.max(ds_test.images[:100])"
      ],
      "metadata": {
        "id": "qg0S170V6Sa5",
        "colab": {
          "base_uri": "https://localhost:8080/"
        },
        "outputId": "a032d46f-3c38-4454-b638-e2490c8609b8"
      },
      "execution_count": 129,
      "outputs": [
        {
          "output_type": "execute_result",
          "data": {
            "text/plain": [
              "255"
            ]
          },
          "metadata": {},
          "execution_count": 129
        }
      ]
    },
    {
      "cell_type": "markdown",
      "source": [
        "# Train a model\n",
        "\n",
        "* Train a SVM classifier\n",
        "* Evaluate the classifier"
      ],
      "metadata": {
        "id": "x78HFg_YYtvq"
      }
    },
    {
      "cell_type": "code",
      "source": [
        "#download and flatten the Images\n",
        "X_train = ds_train.images.numpy().reshape((len(ds_train), -1))\n",
        "X_test = ds_test.images.numpy().reshape((len(ds_test), -1))"
      ],
      "metadata": {
        "id": "wNQwqpIBzLA3"
      },
      "execution_count": 130,
      "outputs": []
    },
    {
      "cell_type": "code",
      "source": [
        "#download lables\n",
        "y_train = ds_train.labels.numpy()\n",
        "y_test = ds_test.labels.numpy() "
      ],
      "metadata": {
        "id": "lhCpIGZUKZnS"
      },
      "execution_count": 131,
      "outputs": []
    },
    {
      "cell_type": "code",
      "source": [],
      "metadata": {
        "id": "Lz3Xm1t_RMP5"
      },
      "execution_count": null,
      "outputs": []
    },
    {
      "cell_type": "code",
      "source": [
        "X_train.shape"
      ],
      "metadata": {
        "colab": {
          "base_uri": "https://localhost:8080/"
        },
        "id": "Y42WnFXULA0G",
        "outputId": "1569efed-5d47-4b05-99d6-e9a0b5233b88"
      },
      "execution_count": 132,
      "outputs": [
        {
          "output_type": "execute_result",
          "data": {
            "text/plain": [
              "(10000, 784)"
            ]
          },
          "metadata": {},
          "execution_count": 132
        }
      ]
    },
    {
      "cell_type": "code",
      "source": [
        "X_test.shape"
      ],
      "metadata": {
        "colab": {
          "base_uri": "https://localhost:8080/"
        },
        "id": "tuaf0UYbL6xN",
        "outputId": "ef003960-a37f-4ac5-a3dc-bb9ffb7d63ab"
      },
      "execution_count": 133,
      "outputs": [
        {
          "output_type": "execute_result",
          "data": {
            "text/plain": [
              "(10000, 784)"
            ]
          },
          "metadata": {},
          "execution_count": 133
        }
      ]
    },
    {
      "cell_type": "code",
      "source": [
        "import numpy as np\n",
        "train_idx = np.random.choice(len(y_train), replace=False, size=10_000)\n",
        "train_idx = np.random.choice(len(y_train), replace=False, size=10_000)"
      ],
      "metadata": {
        "id": "VMBEvudzNnOI"
      },
      "execution_count": 134,
      "outputs": []
    },
    {
      "cell_type": "code",
      "source": [
        "from PIL import Image\n",
        "print(y_test[100])\n",
        "Image.fromarray(X_test[100].reshape((28,28)), \"L\").resize((100,100))\n"
      ],
      "metadata": {
        "colab": {
          "base_uri": "https://localhost:8080/",
          "height": 134
        },
        "id": "VLWYY9kWMAyL",
        "outputId": "937f3e4a-b76d-4595-f945-4d45a88e4cc7"
      },
      "execution_count": 135,
      "outputs": [
        {
          "output_type": "stream",
          "name": "stdout",
          "text": [
            "[3]\n"
          ]
        },
        {
          "output_type": "execute_result",
          "data": {
            "text/plain": [
              "<PIL.Image.Image image mode=L size=100x100 at 0x7F824027BFA0>"
            ],
            "image/png": "[encoded data removed]"
          },
          "metadata": {},
          "execution_count": 135
        }
      ]
    },
    {
      "cell_type": "code",
      "source": [
        "# Randomly select 10k images to use for training\n",
        "train_idx = np.random.choice(range(len(ds_train)), replace=False, size=10_000)"
      ],
      "metadata": {
        "id": "IY8_STY-QgOa"
      },
      "execution_count": 136,
      "outputs": []
    },
    {
      "cell_type": "code",
      "source": [
        "# Prefetch the datasets to RAM and reshape to flatten the images\n",
        "# Note that we could index the training samples using train_idx before\n",
        "# calling the numpy() method to download them, this would cause us to only\n",
        "# download the images we are actually going to use. In this particular case\n",
        "# where the images are tiny it is however faster to first download the full\n",
        "# dataset and then slice it, this is due to the chunking of downloads in deeplake.\n",
        "X_train = ds_train.images.numpy().reshape((len(ds_train), -1))[train_idx]\n",
        "X_test = ds_test.images.numpy().reshape((len(ds_test), -1))\n",
        "y_train = ds_train.labels[train_idx.tolist()].numpy().flatten()\n",
        "y_test = ds_test.labels.numpy().flatten()"
      ],
      "metadata": {
        "id": "lkBmWdZEZKp2"
      },
      "execution_count": 137,
      "outputs": []
    },
    {
      "cell_type": "code",
      "source": [
        "from sklearn import svm"
      ],
      "metadata": {
        "id": "IONxkf3sao8t"
      },
      "execution_count": 138,
      "outputs": []
    },
    {
      "cell_type": "code",
      "source": [
        "model = svm.SVC()\n",
        "model.fit(X_train[train_idx], y_train[train_idx])"
      ],
      "metadata": {
        "colab": {
          "base_uri": "https://localhost:8080/"
        },
        "id": "azNaF07yPD-y",
        "outputId": "541f8a40-9a34-4e8f-fe9a-3f5bae362795"
      },
      "execution_count": 139,
      "outputs": [
        {
          "output_type": "execute_result",
          "data": {
            "text/plain": [
              "SVC()"
            ]
          },
          "metadata": {},
          "execution_count": 139
        }
      ]
    },
    {
      "cell_type": "code",
      "source": [
        "# Predict the first ten samples from the test dataset\n",
        "model.predict(X_test[0:10])"
      ],
      "metadata": {
        "id": "Nrsjx9ambWBz",
        "colab": {
          "base_uri": "https://localhost:8080/"
        },
        "outputId": "6b66ec5e-2cba-4174-c2e5-3b50296cd57c"
      },
      "execution_count": 140,
      "outputs": [
        {
          "output_type": "execute_result",
          "data": {
            "text/plain": [
              "array([9, 2, 1, 1, 6, 1, 4, 6, 5, 7], dtype=uint32)"
            ]
          },
          "metadata": {},
          "execution_count": 140
        }
      ]
    },
    {
      "cell_type": "code",
      "source": [
        "# Show the first ten ground truth values from the test dataset\n",
        "y_test[0:10].flatten()"
      ],
      "metadata": {
        "id": "bipSKzEZbfD3",
        "colab": {
          "base_uri": "https://localhost:8080/"
        },
        "outputId": "92e9b793-f322-4271-b0aa-e6f975c1fd19"
      },
      "execution_count": 141,
      "outputs": [
        {
          "output_type": "execute_result",
          "data": {
            "text/plain": [
              "array([9, 2, 1, 1, 6, 1, 4, 6, 5, 7], dtype=uint32)"
            ]
          },
          "metadata": {},
          "execution_count": 141
        }
      ]
    },
    {
      "cell_type": "code",
      "source": [
        "# Compare predicted and true\n",
        "model.predict(X_test[0:10]) == y_test[0:10]"
      ],
      "metadata": {
        "id": "XLDZx1R2qgz5",
        "colab": {
          "base_uri": "https://localhost:8080/"
        },
        "outputId": "9f8cc656-07e9-4e26-ba2d-5ab9a81c1dd4"
      },
      "execution_count": 142,
      "outputs": [
        {
          "output_type": "execute_result",
          "data": {
            "text/plain": [
              "array([ True,  True,  True,  True,  True,  True,  True,  True,  True,\n",
              "        True])"
            ]
          },
          "metadata": {},
          "execution_count": 142
        }
      ]
    },
    {
      "cell_type": "code",
      "source": [
        "from sklearn import metrics\n",
        "\n",
        "predicted = model.predict(X_test)\n",
        "print(metrics.classification_report(y_test, predicted))"
      ],
      "metadata": {
        "id": "mcoqRsjRbmHW",
        "colab": {
          "base_uri": "https://localhost:8080/"
        },
        "outputId": "9f7ff62c-df38-4bea-bf7d-8f2b2c8f5073"
      },
      "execution_count": 143,
      "outputs": [
        {
          "output_type": "stream",
          "name": "stdout",
          "text": [
            "              precision    recall  f1-score   support\n",
            "\n",
            "           0       0.82      0.89      0.85      1000\n",
            "           1       1.00      0.96      0.98      1000\n",
            "           2       0.81      0.85      0.83      1000\n",
            "           3       0.85      0.92      0.88      1000\n",
            "           4       0.82      0.82      0.82      1000\n",
            "           5       0.97      0.95      0.96      1000\n",
            "           6       0.79      0.64      0.70      1000\n",
            "           7       0.92      0.96      0.94      1000\n",
            "           8       0.97      0.98      0.97      1000\n",
            "           9       0.97      0.95      0.96      1000\n",
            "\n",
            "    accuracy                           0.89     10000\n",
            "   macro avg       0.89      0.89      0.89     10000\n",
            "weighted avg       0.89      0.89      0.89     10000\n",
            "\n"
          ]
        }
      ]
    },
    {
      "cell_type": "code",
      "source": [
        "metrics.ConfusionMatrixDisplay.from_predictions(y_test, predicted)"
      ],
      "metadata": {
        "id": "bjyeYWMUcGuD",
        "colab": {
          "base_uri": "https://localhost:8080/",
          "height": 296
        },
        "outputId": "cb38b3f2-5180-420a-c982-8e68f22653ff"
      },
      "execution_count": 127,
      "outputs": [
        {
          "output_type": "execute_result",
          "data": {
            "text/plain": [
              "<sklearn.metrics._plot.confusion_matrix.ConfusionMatrixDisplay at 0x7f824027ba90>"
            ]
          },
          "metadata": {},
          "execution_count": 127
        },
        {
          "output_type": "display_data",
          "data": {
            "text/plain": [
              "<Figure size 432x288 with 2 Axes>"
            ],
            "image/png": "[encoded data removed]"
          },
          "metadata": {
            "needs_background": "light"
          }
        }
      ]
    },
    {
      "cell_type": "code",
      "source": [],
      "metadata": {
        "id": "_KQH1VygWQGj"
      },
      "execution_count": null,
      "outputs": []
    }
  ]
}