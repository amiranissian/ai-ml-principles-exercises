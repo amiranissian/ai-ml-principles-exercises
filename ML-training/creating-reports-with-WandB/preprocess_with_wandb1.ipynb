{
  "cells": [
    {
      "cell_type": "markdown",
      "metadata": {
        "id": "view-in-github",
        "colab_type": "text"
      },
      "source": [
        "<a href=\"https://colab.research.google.com/github/amiranissian/ai-ml-principles-exercises/blob/main/ML-training/creating-reports-with-WandB/preprocess_with_wandb1.ipynb\" target=\"_parent\"><img src=\"https://colab.research.google.com/assets/colab-badge.svg\" alt=\"Open In Colab\"/></a>"
      ]
    },
    {
      "cell_type": "markdown",
      "id": "a762d7ae",
      "metadata": {
        "id": "a762d7ae"
      },
      "source": [
        "## Install dependencies and import packages\n",
        "First we need to install the libraries we will be using. We will use `numpy` for generic matrix operations and `tensorflow` for deep learning operations such as convolutions, pooling and training (backpropagation)."
      ]
    },
    {
      "cell_type": "code",
      "execution_count": 1,
      "id": "a038785e",
      "metadata": {
        "id": "a038785e",
        "colab": {
          "base_uri": "https://localhost:8080/"
        },
        "outputId": "139a3c7d-9f35-4e4a-e0fa-e342c2ddec59"
      },
      "outputs": [
        {
          "output_type": "stream",
          "name": "stdout",
          "text": [
            "Looking in indexes: https://pypi.org/simple, https://us-python.pkg.dev/colab-wheels/public/simple/\n",
            "Requirement already satisfied: numpy in /usr/local/lib/python3.8/dist-packages (1.21.6)\n",
            "Requirement already satisfied: tensorflow in /usr/local/lib/python3.8/dist-packages (2.9.2)\n",
            "Collecting wandb\n",
            "  Downloading wandb-0.13.6-py2.py3-none-any.whl (1.9 MB)\n",
            "\u001b[K     |████████████████████████████████| 1.9 MB 4.9 MB/s \n",
            "\u001b[?25hRequirement already satisfied: tensorboard<2.10,>=2.9 in /usr/local/lib/python3.8/dist-packages (from tensorflow) (2.9.1)\n",
            "Requirement already satisfied: astunparse>=1.6.0 in /usr/local/lib/python3.8/dist-packages (from tensorflow) (1.6.3)\n",
            "Requirement already satisfied: flatbuffers<2,>=1.12 in /usr/local/lib/python3.8/dist-packages (from tensorflow) (1.12)\n",
            "Requirement already satisfied: keras-preprocessing>=1.1.1 in /usr/local/lib/python3.8/dist-packages (from tensorflow) (1.1.2)\n",
            "Requirement already satisfied: six>=1.12.0 in /usr/local/lib/python3.8/dist-packages (from tensorflow) (1.15.0)\n",
            "Requirement already satisfied: protobuf<3.20,>=3.9.2 in /usr/local/lib/python3.8/dist-packages (from tensorflow) (3.19.6)\n",
            "Requirement already satisfied: h5py>=2.9.0 in /usr/local/lib/python3.8/dist-packages (from tensorflow) (3.1.0)\n",
            "Requirement already satisfied: gast<=0.4.0,>=0.2.1 in /usr/local/lib/python3.8/dist-packages (from tensorflow) (0.4.0)\n",
            "Requirement already satisfied: opt-einsum>=2.3.2 in /usr/local/lib/python3.8/dist-packages (from tensorflow) (3.3.0)\n",
            "Requirement already satisfied: typing-extensions>=3.6.6 in /usr/local/lib/python3.8/dist-packages (from tensorflow) (4.4.0)\n",
            "Requirement already satisfied: packaging in /usr/local/lib/python3.8/dist-packages (from tensorflow) (21.3)\n",
            "Requirement already satisfied: termcolor>=1.1.0 in /usr/local/lib/python3.8/dist-packages (from tensorflow) (2.1.1)\n",
            "Requirement already satisfied: setuptools in /usr/local/lib/python3.8/dist-packages (from tensorflow) (57.4.0)\n",
            "Requirement already satisfied: libclang>=13.0.0 in /usr/local/lib/python3.8/dist-packages (from tensorflow) (14.0.6)\n",
            "Requirement already satisfied: tensorflow-estimator<2.10.0,>=2.9.0rc0 in /usr/local/lib/python3.8/dist-packages (from tensorflow) (2.9.0)\n",
            "Requirement already satisfied: wrapt>=1.11.0 in /usr/local/lib/python3.8/dist-packages (from tensorflow) (1.14.1)\n",
            "Requirement already satisfied: tensorflow-io-gcs-filesystem>=0.23.1 in /usr/local/lib/python3.8/dist-packages (from tensorflow) (0.28.0)\n",
            "Requirement already satisfied: keras<2.10.0,>=2.9.0rc0 in /usr/local/lib/python3.8/dist-packages (from tensorflow) (2.9.0)\n",
            "Requirement already satisfied: google-pasta>=0.1.1 in /usr/local/lib/python3.8/dist-packages (from tensorflow) (0.2.0)\n",
            "Requirement already satisfied: absl-py>=1.0.0 in /usr/local/lib/python3.8/dist-packages (from tensorflow) (1.3.0)\n",
            "Requirement already satisfied: grpcio<2.0,>=1.24.3 in /usr/local/lib/python3.8/dist-packages (from tensorflow) (1.51.1)\n",
            "Requirement already satisfied: wheel<1.0,>=0.23.0 in /usr/local/lib/python3.8/dist-packages (from astunparse>=1.6.0->tensorflow) (0.38.4)\n",
            "Requirement already satisfied: markdown>=2.6.8 in /usr/local/lib/python3.8/dist-packages (from tensorboard<2.10,>=2.9->tensorflow) (3.4.1)\n",
            "Requirement already satisfied: google-auth<3,>=1.6.3 in /usr/local/lib/python3.8/dist-packages (from tensorboard<2.10,>=2.9->tensorflow) (2.15.0)\n",
            "Requirement already satisfied: google-auth-oauthlib<0.5,>=0.4.1 in /usr/local/lib/python3.8/dist-packages (from tensorboard<2.10,>=2.9->tensorflow) (0.4.6)\n",
            "Requirement already satisfied: tensorboard-data-server<0.7.0,>=0.6.0 in /usr/local/lib/python3.8/dist-packages (from tensorboard<2.10,>=2.9->tensorflow) (0.6.1)\n",
            "Requirement already satisfied: requests<3,>=2.21.0 in /usr/local/lib/python3.8/dist-packages (from tensorboard<2.10,>=2.9->tensorflow) (2.23.0)\n",
            "Requirement already satisfied: werkzeug>=1.0.1 in /usr/local/lib/python3.8/dist-packages (from tensorboard<2.10,>=2.9->tensorflow) (1.0.1)\n",
            "Requirement already satisfied: tensorboard-plugin-wit>=1.6.0 in /usr/local/lib/python3.8/dist-packages (from tensorboard<2.10,>=2.9->tensorflow) (1.8.1)\n",
            "Requirement already satisfied: pyasn1-modules>=0.2.1 in /usr/local/lib/python3.8/dist-packages (from google-auth<3,>=1.6.3->tensorboard<2.10,>=2.9->tensorflow) (0.2.8)\n",
            "Requirement already satisfied: rsa<5,>=3.1.4 in /usr/local/lib/python3.8/dist-packages (from google-auth<3,>=1.6.3->tensorboard<2.10,>=2.9->tensorflow) (4.9)\n",
            "Requirement already satisfied: cachetools<6.0,>=2.0.0 in /usr/local/lib/python3.8/dist-packages (from google-auth<3,>=1.6.3->tensorboard<2.10,>=2.9->tensorflow) (5.2.0)\n",
            "Requirement already satisfied: requests-oauthlib>=0.7.0 in /usr/local/lib/python3.8/dist-packages (from google-auth-oauthlib<0.5,>=0.4.1->tensorboard<2.10,>=2.9->tensorflow) (1.3.1)\n",
            "Requirement already satisfied: importlib-metadata>=4.4 in /usr/local/lib/python3.8/dist-packages (from markdown>=2.6.8->tensorboard<2.10,>=2.9->tensorflow) (4.13.0)\n",
            "Requirement already satisfied: zipp>=0.5 in /usr/local/lib/python3.8/dist-packages (from importlib-metadata>=4.4->markdown>=2.6.8->tensorboard<2.10,>=2.9->tensorflow) (3.11.0)\n",
            "Requirement already satisfied: pyasn1<0.5.0,>=0.4.6 in /usr/local/lib/python3.8/dist-packages (from pyasn1-modules>=0.2.1->google-auth<3,>=1.6.3->tensorboard<2.10,>=2.9->tensorflow) (0.4.8)\n",
            "Requirement already satisfied: urllib3!=1.25.0,!=1.25.1,<1.26,>=1.21.1 in /usr/local/lib/python3.8/dist-packages (from requests<3,>=2.21.0->tensorboard<2.10,>=2.9->tensorflow) (1.24.3)\n",
            "Requirement already satisfied: chardet<4,>=3.0.2 in /usr/local/lib/python3.8/dist-packages (from requests<3,>=2.21.0->tensorboard<2.10,>=2.9->tensorflow) (3.0.4)\n",
            "Requirement already satisfied: idna<3,>=2.5 in /usr/local/lib/python3.8/dist-packages (from requests<3,>=2.21.0->tensorboard<2.10,>=2.9->tensorflow) (2.10)\n",
            "Requirement already satisfied: certifi>=2017.4.17 in /usr/local/lib/python3.8/dist-packages (from requests<3,>=2.21.0->tensorboard<2.10,>=2.9->tensorflow) (2022.9.24)\n",
            "Requirement already satisfied: oauthlib>=3.0.0 in /usr/local/lib/python3.8/dist-packages (from requests-oauthlib>=0.7.0->google-auth-oauthlib<0.5,>=0.4.1->tensorboard<2.10,>=2.9->tensorflow) (3.2.2)\n",
            "Requirement already satisfied: PyYAML in /usr/local/lib/python3.8/dist-packages (from wandb) (6.0)\n",
            "Collecting setproctitle\n",
            "  Downloading setproctitle-1.3.2-cp38-cp38-manylinux_2_5_x86_64.manylinux1_x86_64.manylinux_2_17_x86_64.manylinux2014_x86_64.whl (31 kB)\n",
            "Requirement already satisfied: psutil>=5.0.0 in /usr/local/lib/python3.8/dist-packages (from wandb) (5.4.8)\n",
            "Requirement already satisfied: promise<3,>=2.0 in /usr/local/lib/python3.8/dist-packages (from wandb) (2.3)\n",
            "Collecting shortuuid>=0.5.0\n",
            "  Downloading shortuuid-1.0.11-py3-none-any.whl (10 kB)\n",
            "Collecting sentry-sdk>=1.0.0\n",
            "  Downloading sentry_sdk-1.11.1-py2.py3-none-any.whl (168 kB)\n",
            "\u001b[K     |████████████████████████████████| 168 kB 21.7 MB/s \n",
            "\u001b[?25hCollecting GitPython>=1.0.0\n",
            "  Downloading GitPython-3.1.29-py3-none-any.whl (182 kB)\n",
            "\u001b[K     |████████████████████████████████| 182 kB 53.7 MB/s \n",
            "\u001b[?25hRequirement already satisfied: Click!=8.0.0,>=7.0 in /usr/local/lib/python3.8/dist-packages (from wandb) (7.1.2)\n",
            "Collecting pathtools\n",
            "  Downloading pathtools-0.1.2.tar.gz (11 kB)\n",
            "Collecting docker-pycreds>=0.4.0\n",
            "  Downloading docker_pycreds-0.4.0-py2.py3-none-any.whl (9.0 kB)\n",
            "Collecting gitdb<5,>=4.0.1\n",
            "  Downloading gitdb-4.0.10-py3-none-any.whl (62 kB)\n",
            "\u001b[K     |████████████████████████████████| 62 kB 821 kB/s \n",
            "\u001b[?25hCollecting smmap<6,>=3.0.1\n",
            "  Downloading smmap-5.0.0-py3-none-any.whl (24 kB)\n",
            "Collecting sentry-sdk>=1.0.0\n",
            "  Downloading sentry_sdk-1.11.0-py2.py3-none-any.whl (168 kB)\n",
            "\u001b[K     |████████████████████████████████| 168 kB 41.9 MB/s \n",
            "\u001b[?25h  Downloading sentry_sdk-1.10.1-py2.py3-none-any.whl (166 kB)\n",
            "\u001b[K     |████████████████████████████████| 166 kB 43.2 MB/s \n",
            "\u001b[?25h  Downloading sentry_sdk-1.10.0-py2.py3-none-any.whl (166 kB)\n",
            "\u001b[K     |████████████████████████████████| 166 kB 43.7 MB/s \n",
            "\u001b[?25h  Downloading sentry_sdk-1.9.10-py2.py3-none-any.whl (162 kB)\n",
            "\u001b[K     |████████████████████████████████| 162 kB 63.7 MB/s \n",
            "\u001b[?25h  Downloading sentry_sdk-1.9.9-py2.py3-none-any.whl (162 kB)\n",
            "\u001b[K     |████████████████████████████████| 162 kB 49.2 MB/s \n",
            "\u001b[?25h  Downloading sentry_sdk-1.9.8-py2.py3-none-any.whl (158 kB)\n",
            "\u001b[K     |████████████████████████████████| 158 kB 63.2 MB/s \n",
            "\u001b[?25h  Downloading sentry_sdk-1.9.7-py2.py3-none-any.whl (157 kB)\n",
            "\u001b[K     |████████████████████████████████| 157 kB 55.4 MB/s \n",
            "\u001b[?25h  Downloading sentry_sdk-1.9.6-py2.py3-none-any.whl (157 kB)\n",
            "\u001b[K     |████████████████████████████████| 157 kB 52.9 MB/s \n",
            "\u001b[?25h  Downloading sentry_sdk-1.9.5-py2.py3-none-any.whl (157 kB)\n",
            "\u001b[K     |████████████████████████████████| 157 kB 61.0 MB/s \n",
            "\u001b[?25h  Downloading sentry_sdk-1.9.4-py2.py3-none-any.whl (157 kB)\n",
            "\u001b[K     |████████████████████████████████| 157 kB 66.4 MB/s \n",
            "\u001b[?25h  Downloading sentry_sdk-1.9.3-py2.py3-none-any.whl (157 kB)\n",
            "\u001b[K     |████████████████████████████████| 157 kB 53.9 MB/s \n",
            "\u001b[?25h  Downloading sentry_sdk-1.9.2-py2.py3-none-any.whl (157 kB)\n",
            "\u001b[K     |████████████████████████████████| 157 kB 46.6 MB/s \n",
            "\u001b[?25h  Downloading sentry_sdk-1.9.1-py2.py3-none-any.whl (157 kB)\n",
            "\u001b[K     |████████████████████████████████| 157 kB 21.5 MB/s \n",
            "\u001b[?25h  Downloading sentry_sdk-1.9.0-py2.py3-none-any.whl (156 kB)\n",
            "\u001b[K     |████████████████████████████████| 156 kB 25.2 MB/s \n",
            "\u001b[?25hRequirement already satisfied: pyparsing!=3.0.5,>=2.0.2 in /usr/local/lib/python3.8/dist-packages (from packaging->tensorflow) (3.0.9)\n",
            "Building wheels for collected packages: pathtools\n",
            "  Building wheel for pathtools (setup.py) ... \u001b[?25l\u001b[?25hdone\n",
            "  Created wheel for pathtools: filename=pathtools-0.1.2-py3-none-any.whl size=8806 sha256=fb0a78a2b8df2bdfa93ccd66371cb87ba4b4ae543c4f73728359320532a723d6\n",
            "  Stored in directory: /root/.cache/pip/wheels/4c/8e/7e/72fbc243e1aeecae64a96875432e70d4e92f3d2d18123be004\n",
            "Successfully built pathtools\n",
            "Installing collected packages: smmap, gitdb, shortuuid, setproctitle, sentry-sdk, pathtools, GitPython, docker-pycreds, wandb\n",
            "Successfully installed GitPython-3.1.29 docker-pycreds-0.4.0 gitdb-4.0.10 pathtools-0.1.2 sentry-sdk-1.9.0 setproctitle-1.3.2 shortuuid-1.0.11 smmap-5.0.0 wandb-0.13.6\n"
          ]
        }
      ],
      "source": [
        "import sys\n",
        "!{sys.executable} -m pip install numpy tensorflow wandb\n",
        "\n",
        "import wandb\n",
        "import numpy as np\n",
        "from tensorflow import keras\n",
        "import matplotlib.pyplot as plt"
      ]
    },
    {
      "cell_type": "code",
      "source": [
        "from datetime import datetime\n",
        "\n",
        "date_and_time = datetime.now().strftime(\"%Y-%m-%d %H:%M:%S\")\n",
        "\n",
        "wandb_run = wandb.init(\n",
        "    project=\"Övning3_v2\",\n",
        "    name=f\"preprocessing {date_and_time}\"\n",
        ")"
      ],
      "metadata": {
        "id": "14dPZ0SvIeG1",
        "colab": {
          "base_uri": "https://localhost:8080/",
          "height": 121
        },
        "outputId": "7759b403-c81e-4282-8bc4-72ff9276198d"
      },
      "id": "14dPZ0SvIeG1",
      "execution_count": 2,
      "outputs": [
        {
          "output_type": "stream",
          "name": "stderr",
          "text": [
            "ERROR:wandb.jupyter:Failed to detect the name of this notebook, you can set it manually with the WANDB_NOTEBOOK_NAME environment variable to enable code saving.\n"
          ]
        },
        {
          "output_type": "display_data",
          "data": {
            "text/plain": [
              "<IPython.core.display.Javascript object>"
            ],
            "application/javascript": [
              "\n",
              "        window._wandbApiKey = new Promise((resolve, reject) => {\n",
              "            function loadScript(url) {\n",
              "            return new Promise(function(resolve, reject) {\n",
              "                let newScript = document.createElement(\"script\");\n",
              "                newScript.onerror = reject;\n",
              "                newScript.onload = resolve;\n",
              "                document.body.appendChild(newScript);\n",
              "                newScript.src = url;\n",
              "            });\n",
              "            }\n",
              "            loadScript(\"https://cdn.jsdelivr.net/npm/postmate/build/postmate.min.js\").then(() => {\n",
              "            const iframe = document.createElement('iframe')\n",
              "            iframe.style.cssText = \"width:0;height:0;border:none\"\n",
              "            document.body.appendChild(iframe)\n",
              "            const handshake = new Postmate({\n",
              "                container: iframe,\n",
              "                url: 'https://wandb.ai/authorize'\n",
              "            });\n",
              "            const timeout = setTimeout(() => reject(\"Couldn't auto authenticate\"), 5000)\n",
              "            handshake.then(function(child) {\n",
              "                child.on('authorize', data => {\n",
              "                    clearTimeout(timeout)\n",
              "                    resolve(data)\n",
              "                });\n",
              "            });\n",
              "            })\n",
              "        });\n",
              "    "
            ]
          },
          "metadata": {}
        },
        {
          "output_type": "stream",
          "name": "stderr",
          "text": [
            "\u001b[34m\u001b[1mwandb\u001b[0m: Appending key for api.wandb.ai to your netrc file: /root/.netrc\n"
          ]
        },
        {
          "output_type": "display_data",
          "data": {
            "text/plain": [
              "<IPython.core.display.HTML object>"
            ],
            "text/html": [
              "Tracking run with wandb version 0.13.6"
            ]
          },
          "metadata": {}
        },
        {
          "output_type": "display_data",
          "data": {
            "text/plain": [
              "<IPython.core.display.HTML object>"
            ],
            "text/html": [
              "Run data is saved locally in <code>/content/wandb/run-20221212_081401-o6l6x1v0</code>"
            ]
          },
          "metadata": {}
        },
        {
          "output_type": "display_data",
          "data": {
            "text/plain": [
              "<IPython.core.display.HTML object>"
            ],
            "text/html": [
              "Syncing run <strong><a href=\"https://wandb.ai/amir_anissian/%C3%96vning3_v2/runs/o6l6x1v0\" target=\"_blank\">preprocessing 2022-12-12 08:13:56</a></strong> to <a href=\"https://wandb.ai/amir_anissian/%C3%96vning3_v2\" target=\"_blank\">Weights & Biases</a> (<a href=\"https://wandb.me/run\" target=\"_blank\">docs</a>)<br/>"
            ]
          },
          "metadata": {}
        }
      ]
    },
    {
      "cell_type": "markdown",
      "id": "084f8685",
      "metadata": {
        "id": "084f8685"
      },
      "source": [
        "## Download the data\n",
        "We use a digit classification dataset called *MNIST*. This code downloads and loads the images together with their true labels."
      ]
    },
    {
      "cell_type": "code",
      "execution_count": 3,
      "id": "48724cbc",
      "metadata": {
        "id": "48724cbc",
        "colab": {
          "base_uri": "https://localhost:8080/"
        },
        "outputId": "a0dedd10-e67f-44bf-fb0b-ef54ca0835dd"
      },
      "outputs": [
        {
          "output_type": "stream",
          "name": "stdout",
          "text": [
            "Downloading data from https://storage.googleapis.com/tensorflow/tf-keras-datasets/train-labels-idx1-ubyte.gz\n",
            "29515/29515 [==============================] - 0s 0us/step\n",
            "Downloading data from https://storage.googleapis.com/tensorflow/tf-keras-datasets/train-images-idx3-ubyte.gz\n",
            "26421880/26421880 [==============================] - 0s 0us/step\n",
            "Downloading data from https://storage.googleapis.com/tensorflow/tf-keras-datasets/t10k-labels-idx1-ubyte.gz\n",
            "5148/5148 [==============================] - 0s 0us/step\n",
            "Downloading data from https://storage.googleapis.com/tensorflow/tf-keras-datasets/t10k-images-idx3-ubyte.gz\n",
            "4422102/4422102 [==============================] - 0s 0us/step\n"
          ]
        }
      ],
      "source": [
        "(x_train, y_train), (x_test, y_test) = keras.datasets.fashion_mnist.load_data()"
      ]
    },
    {
      "cell_type": "markdown",
      "source": [
        "# Define helper functions for logging histograms to WandB\n",
        "Weights and Biases has built in functions to generate histograms of data. These functions do however upload every sample to the WandB server before creating the histogram. This is useful to create interactive graphs, but if logging data from many samples it is too slow to upload every single sample. Instead we can create a histogram with `numpy` and only upload the bucket edges and the counts. We then create a bar plot in WandB to visualize the count for each bucket."
      ],
      "metadata": {
        "id": "3jhfLSh1Mt2u"
      },
      "id": "3jhfLSh1Mt2u"
    },
    {
      "cell_type": "code",
      "source": [
        "def log_bar(x, y, title, x_name=\"x\", y_name=\"y\", keep_order=False):\n",
        "    if keep_order:\n",
        "        x = [f\"{idx}: {x_}\" for idx, x_ in enumerate(x)] # Make sure alphabetical sorting works\n",
        "    table = wandb.Table(\n",
        "        data=[[x, y] for x, y in zip(x, y)],\n",
        "        columns=[x_name, y_name]\n",
        "    )\n",
        "    wandb.log({title: wandb.plot.bar(table, x_name, y_name, title=title)})\n",
        "\n",
        "\n",
        "def create_histogram(data, min_value=None, max_value=None, bins=10):\n",
        "    if min_value is None:\n",
        "        min_value = data.min()\n",
        "    if max_value is None:\n",
        "        max_value = data.max()\n",
        "\n",
        "    if isinstance(bins, int):\n",
        "        bin_edges = np.linspace(min_value, max_value, num=bins)\n",
        "    else:\n",
        "        bin_edges = bins\n",
        "        \n",
        "    numbers, _ = np.histogram(data, bins=bin_edges)\n",
        "    bin_names = [f\"{lower:.1f}-{upper:.1f}\" for lower, upper in zip(bin_edges[:-1], bin_edges[1:])]\n",
        "\n",
        "    return bin_names, numbers"
      ],
      "metadata": {
        "id": "cvBkQQ2Ejc1e"
      },
      "id": "cvBkQQ2Ejc1e",
      "execution_count": 4,
      "outputs": []
    },
    {
      "cell_type": "markdown",
      "source": [
        "## Visualize the labels\n",
        "Except from knowing what the training images looks like it is interesting to know how many images of each label type we have. This is important since if we are lacking data from some label, we will not be able to train a network to recognize images with that label."
      ],
      "metadata": {
        "id": "FjVrbT9asqMp"
      },
      "id": "FjVrbT9asqMp"
    },
    {
      "cell_type": "code",
      "source": [
        "## HOw to change counter to more counts?\n",
        "from collections import Counter\n",
        "\n",
        "num_images_per_label = Counter(y_train)\n",
        "x, num_images = zip(*((str(x_), num_) for x_, num_ in sorted(num_images_per_label.items())))\n",
        "log_bar(x, num_images, \"Labels in training data\", x_name=\"Label\", y_name=\"# images\")\n",
        "print(num_images_per_label)\n",
        "num_images_per_label = Counter(y_test)\n",
        "x, num_images = zip(*((str(x_), num_) for x_, num_ in sorted(num_images_per_label.items())))\n",
        "log_bar(x, num_images, \"Labels in test data\", x_name=\"Label\", y_name=\"# images\")\n",
        "print(num_images_per_label)\n"
      ],
      "metadata": {
        "id": "TZpNrm94rcU2",
        "colab": {
          "base_uri": "https://localhost:8080/"
        },
        "outputId": "07de842f-4b99-4ab8-8aee-eab0a9791168"
      },
      "id": "TZpNrm94rcU2",
      "execution_count": null,
      "outputs": [
        {
          "output_type": "stream",
          "name": "stdout",
          "text": [
            "Counter({9: 6000, 0: 6000, 3: 6000, 2: 6000, 7: 6000, 5: 6000, 1: 6000, 6: 6000, 4: 6000, 8: 6000})\n",
            "Counter({9: 1000, 2: 1000, 1: 1000, 6: 1000, 4: 1000, 5: 1000, 7: 1000, 3: 1000, 8: 1000, 0: 1000})\n"
          ]
        }
      ]
    },
    {
      "cell_type": "markdown",
      "source": [
        "## Visualize the training data\n",
        "To get a feeling for what the data looks like we will plot one of the training images and its corresponding label. We will also plot a histogram over all the values in all the images so that we can see how the intensity in the images is distributed."
      ],
      "metadata": {
        "id": "Cz_W0GwYRIAF"
      },
      "id": "Cz_W0GwYRIAF"
    },
    {
      "cell_type": "code",
      "source": [
        "i = 0\n",
        "print(f\"Sample {i} is a {y_train[i]}\")\n",
        "plt.imshow(x_train[i])\n",
        "\n",
        "image = wandb.Image(x_train[i], caption=f\"Training sample {i} is a {y_train[i]}\")\n",
        "wandb.log({\"Example training image\": image})"
      ],
      "metadata": {
        "id": "cIFy0YWLO-a9",
        "colab": {
          "base_uri": "https://localhost:8080/",
          "height": 283
        },
        "outputId": "832938fc-dd22-45a5-ec11-d93cfc339bb5"
      },
      "id": "cIFy0YWLO-a9",
      "execution_count": null,
      "outputs": [
        {
          "output_type": "stream",
          "name": "stdout",
          "text": [
            "Sample 0 is a 9\n"
          ]
        },
        {
          "output_type": "display_data",
          "data": {
            "text/plain": [
              "<Figure size 432x288 with 1 Axes>"
            ],
            "image/png": "[encoded data removed]"
          },
          "metadata": {
            "needs_background": "light"
          }
        }
      ]
    },
    {
      "cell_type": "code",
      "source": [
        "# Log the datasets minimum and maximum intensities and datatype to the WandB summary\n",
        "min_value = min(x_train.min(), x_test.min())\n",
        "max_value = max(x_train.max(), x_test.max())\n",
        "wandb_run.summary[\"raw\"] = {\"min\": min_value, \"max\": max_value, \"dtype\": str(x_train.dtype)}\n",
        "\n",
        "# Create a new histogram of the image pixels intensities\n",
        "bin_names, train_hist = create_histogram(x_train)\n",
        "log_bar(bin_names, train_hist, \"Raw training data\", x_name=\"bin\", y_name=\"# pixels\", keep_order=True)"
      ],
      "metadata": {
        "id": "fLZX76QOIcTG"
      },
      "id": "fLZX76QOIcTG",
      "execution_count": null,
      "outputs": []
    },
    {
      "cell_type": "code",
      "source": [
        "# Create a heatmap over all active pixels from all frames\n",
        "heatmap = np.mean(x_train, axis=0)\n",
        "plt.imshow(heatmap)\n",
        "wandb.log({\"Heatmap of training images\": wandb.Image(np.expand_dims(heatmap, axis=2), caption=\"The mean of all images in the training set\")})\n",
        "\n",
        "# Log a histogram of the average value for each pixel through out the\n",
        "# training dataset. This shows us how many of the pixels that are\n",
        "# always zero in all frames.\n",
        "bin_names, heatmap_hist = create_histogram(heatmap.flatten(), bins=[0, 1, 10, 30, 100, 255])\n",
        "log_bar(bin_names, heatmap_hist, \"Average value per pixel in training data\", x_name=\"bin\", y_name=\"# pixels\", keep_order=True)"
      ],
      "metadata": {
        "id": "v4EKkknJmZ8n",
        "colab": {
          "base_uri": "https://localhost:8080/",
          "height": 265
        },
        "outputId": "78322746-8c09-4b6b-89a3-a0c217d91885"
      },
      "id": "v4EKkknJmZ8n",
      "execution_count": null,
      "outputs": [
        {
          "output_type": "display_data",
          "data": {
            "text/plain": [
              "<Figure size 432x288 with 1 Axes>"
            ],
            "image/png": "[encoded data removed]"
          },
          "metadata": {
            "needs_background": "light"
          }
        }
      ]
    },
    {
      "cell_type": "markdown",
      "source": [
        "## Preprocess the data\n",
        "Now that we understand the data we are ready to preprocess the images to make them suitable for training of a deep learning model."
      ],
      "metadata": {
        "id": "P_5M0D6eSY-S"
      },
      "id": "P_5M0D6eSY-S"
    },
    {
      "cell_type": "code",
      "source": [
        "# Normalize the values to the range -1...1\n",
        "x_train_norm = x_train / 128 - 1\n",
        "x_test_norm = x_test / 128 - 1\n"
      ],
      "metadata": {
        "id": "ekWqPTStOdM2"
      },
      "id": "ekWqPTStOdM2",
      "execution_count": null,
      "outputs": []
    },
    {
      "cell_type": "code",
      "source": [
        "x_train_norm *= np.random.random(size=x_train_norm.shape)"
      ],
      "metadata": {
        "id": "noxMVjEOdk-P"
      },
      "id": "noxMVjEOdk-P",
      "execution_count": null,
      "outputs": []
    },
    {
      "cell_type": "code",
      "source": [
        "# Create a new histogram of the modified values\n",
        "min_value = min(x_train_norm.min(), x_test_norm.min())\n",
        "max_value = max(x_train_norm.max(), x_test_norm.max())\n",
        "wandb_run.summary[\"preprocessed\"] = {\"min\": min_value, \"max\": max_value, \"dtype\": str(x_train_norm.dtype)}\n",
        "\n",
        "bin_names, train_hist = create_histogram(x_train_norm)\n",
        "log_bar(bin_names, train_hist, \"Preprocessed training data\", x_name=\"bin\", y_name=\"# pixels\", keep_order=True)"
      ],
      "metadata": {
        "id": "FzDuNQreS8H_"
      },
      "id": "FzDuNQreS8H_",
      "execution_count": null,
      "outputs": []
    },
    {
      "cell_type": "code",
      "source": [
        "i = 0\n",
        "print(f\"Sample {i} is number {y_train[i]}\")\n",
        "plt.imshow(x_train_norm[i])\n",
        "\n",
        "image = wandb.Image(x_train_norm[i], caption=f\"Training sample {i} is a {y_train[i]}\")\n",
        "wandb.log({\"Example training image (preprocessed)\": image})"
      ],
      "metadata": {
        "id": "vkjgqam-Ve9e",
        "colab": {
          "base_uri": "https://localhost:8080/",
          "height": 283
        },
        "outputId": "2228a77d-9ad6-47fc-8929-8ce5ea7a8a2c"
      },
      "id": "vkjgqam-Ve9e",
      "execution_count": null,
      "outputs": [
        {
          "output_type": "stream",
          "name": "stdout",
          "text": [
            "Sample 0 is number 9\n"
          ]
        },
        {
          "output_type": "display_data",
          "data": {
            "text/plain": [
              "<Figure size 432x288 with 1 Axes>"
            ],
            "image/png": "[encoded data removed]"
          },
          "metadata": {
            "needs_background": "light"
          }
        }
      ]
    },
    {
      "cell_type": "markdown",
      "source": [
        "## Subsample the test data set\n",
        "If the test data set has different number of samples from different labels we will need to weight the different classes differently when evaluating our model if we want each number to be treated as equally importatant. Another option is to subsample so that the test data set has the same number of each label and ignoring the other images."
      ],
      "metadata": {
        "id": "T7_tZ64Jv-pw"
      },
      "id": "T7_tZ64Jv-pw"
    },
    {
      "cell_type": "code",
      "source": [
        "num_images_per_label = Counter(y_test)\n",
        "min_number_of_labels = min(num_images_per_label.values())\n",
        "\n",
        "indexes_to_keep = []\n",
        "for label in num_images_per_label.keys():\n",
        "  indexes_to_keep.extend(\n",
        "      np.random.choice(\n",
        "          np.where(y_test == label)[0],\n",
        "          size=min_number_of_labels,\n",
        "          replace=False\n",
        "      ).tolist()\n",
        "  )\n",
        "\n",
        "np.random.shuffle(indexes_to_keep)\n",
        "x_test_norm_subsamp = x_test_norm[indexes_to_keep]\n",
        "y_test_subsamp = y_test[indexes_to_keep]"
      ],
      "metadata": {
        "id": "UQeTmDj2YfTF"
      },
      "id": "UQeTmDj2YfTF",
      "execution_count": null,
      "outputs": []
    },
    {
      "cell_type": "code",
      "source": [
        "x_test_norm_subsamp.shape"
      ],
      "metadata": {
        "id": "WiDAbwj6zN44",
        "colab": {
          "base_uri": "https://localhost:8080/"
        },
        "outputId": "c0c3c923-86b3-45a7-8c70-d4028fc34a17"
      },
      "id": "WiDAbwj6zN44",
      "execution_count": null,
      "outputs": [
        {
          "output_type": "execute_result",
          "data": {
            "text/plain": [
              "(10000, 28, 28)"
            ]
          },
          "metadata": {},
          "execution_count": 14
        }
      ]
    },
    {
      "cell_type": "code",
      "source": [
        "# Verify that the labels and images are still in sync\n",
        "print(f\"This should be a {y_test_subsamp[0]}\")\n",
        "plt.imshow(x_test_norm_subsamp[0])"
      ],
      "metadata": {
        "id": "Lnfbicbsxuk1",
        "colab": {
          "base_uri": "https://localhost:8080/",
          "height": 302
        },
        "outputId": "7e0b6f42-bb58-4f7b-d9bf-571b07dc9015"
      },
      "id": "Lnfbicbsxuk1",
      "execution_count": null,
      "outputs": [
        {
          "output_type": "stream",
          "name": "stdout",
          "text": [
            "This should be a 0\n"
          ]
        },
        {
          "output_type": "execute_result",
          "data": {
            "text/plain": [
              "<matplotlib.image.AxesImage at 0x7fc8b6259340>"
            ]
          },
          "metadata": {},
          "execution_count": 15
        },
        {
          "output_type": "display_data",
          "data": {
            "text/plain": [
              "<Figure size 432x288 with 1 Axes>"
            ],
            "image/png": "[encoded data removed]"
          },
          "metadata": {
            "needs_background": "light"
          }
        }
      ]
    },
    {
      "cell_type": "code",
      "source": [
        "# Log the new distribution\n",
        "num_images_per_label = Counter(y_test_subsamp)\n",
        "labels_, num_images = zip(*((str(label), number) for label, number in sorted(num_images_per_label.items())))\n",
        "log_bar(labels_, num_images, \"Labels in test data (subsampled)\", x_name=\"Label\", y_name=\"# images\")"
      ],
      "metadata": {
        "id": "8D9xkzDmxGqM"
      },
      "id": "8D9xkzDmxGqM",
      "execution_count": null,
      "outputs": []
    },
    {
      "cell_type": "code",
      "source": [],
      "metadata": {
        "id": "6Om1na51EYeL"
      },
      "id": "6Om1na51EYeL",
      "execution_count": null,
      "outputs": []
    },
    {
      "cell_type": "markdown",
      "source": [
        "*my codes"
      ],
      "metadata": {
        "id": "X-FUi2wRzQ2v"
      },
      "id": "X-FUi2wRzQ2v"
    },
    {
      "cell_type": "code",
      "source": [
        "import sys\n",
        "!{sys.executable} -m pip install numpy tensorflow\n",
        "from IPython.display import clear_output\n",
        "clear_output()\n",
        "import numpy as np\n",
        "from tensorflow import keras\n",
        "from tensorflow.keras import layers"
      ],
      "metadata": {
        "id": "qsuyKTVTzUea"
      },
      "id": "qsuyKTVTzUea",
      "execution_count": 11,
      "outputs": []
    },
    {
      "cell_type": "code",
      "source": [
        "\n",
        "\n",
        "def create_cnn(input_shape, output_classes):\n",
        "    return keras.Sequential(\n",
        "        [\n",
        "            keras.Input(shape=input_shape),\n",
        "            layers.Conv2D(32, kernel_size=(3, 3), activation=\"relu\"),\n",
        "            layers.MaxPooling2D(pool_size=(2, 2)),\n",
        "            layers.Conv2D(64, kernel_size=(3, 3), activation=\"relu\"),\n",
        "            layers.MaxPooling2D(pool_size=(2, 2)),\n",
        "            layers.Flatten(),\n",
        "            layers.Dense(output_classes, activation=\"softmax\"),\n",
        "        ]\n",
        "    )\n"
      ],
      "metadata": {
        "id": "x-oEONybzf06"
      },
      "id": "x-oEONybzf06",
      "execution_count": 12,
      "outputs": []
    },
    {
      "cell_type": "code",
      "source": [
        "def get_fashion_mnist_data():\n",
        "    # Load the data and split it between train and test sets\n",
        "    (x_train, y_train), (x_test, y_test) = keras.datasets.fashion_mnist.load_data()\n",
        "\n",
        "    # Scale images to the [0, 1] range\n",
        "    x_train = x_train.astype(\"float32\") / 255\n",
        "    x_test = x_test.astype(\"float32\") / 255\n",
        "\n",
        "    # Make sure images have shape (28, 28, 1)\n",
        "    x_train = np.expand_dims(x_train, -1)\n",
        "    x_test = np.expand_dims(x_test, -1)\n",
        "\n",
        "    # convert class vectors to binary class matrices\n",
        "    num_classes = 10\n",
        "    y_train = keras.utils.to_categorical(y_train, num_classes)\n",
        "    y_test = keras.utils.to_categorical(y_test, num_classes)\n",
        "\n",
        "    return (x_train, y_train), (x_test, y_test)"
      ],
      "metadata": {
        "id": "5X05hg8zzj-6"
      },
      "id": "5X05hg8zzj-6",
      "execution_count": 13,
      "outputs": []
    },
    {
      "cell_type": "code",
      "source": [
        "batch_size = 128\n",
        "epochs = 2\n",
        "# Get the training data\n",
        "x_train, y_train = get_fashion_mnist_data()[0]\n"
      ],
      "metadata": {
        "id": "bR_5bHnSznmq"
      },
      "id": "bR_5bHnSznmq",
      "execution_count": 14,
      "outputs": []
    },
    {
      "cell_type": "code",
      "source": [
        "# Create a Convolutional Neural Network that\n",
        "# expects a 28x28 pixel image with 1 color chanel (gray) as input\n",
        "model = create_cnn((28, 28, 1), 10)\n",
        "\n",
        "model.compile(loss=\"categorical_crossentropy\",\n",
        "              optimizer=\"adam\", metrics=[\"accuracy\"])\n",
        "model.fit(x_train, y_train, batch_size=batch_size,\n",
        "          epochs=epochs, validation_split=0.1)\n"
      ],
      "metadata": {
        "colab": {
          "base_uri": "https://localhost:8080/"
        },
        "id": "o0-K15Ah0Jq6",
        "outputId": "31911ecf-31c0-42a5-cd5d-ff2189a580fb"
      },
      "id": "o0-K15Ah0Jq6",
      "execution_count": 15,
      "outputs": [
        {
          "output_type": "stream",
          "name": "stdout",
          "text": [
            "Epoch 1/2\n",
            "422/422 [==============================] - 59s 136ms/step - loss: 0.6089 - accuracy: 0.7857 - val_loss: 0.4373 - val_accuracy: 0.8443\n",
            "Epoch 2/2\n",
            "422/422 [==============================] - 47s 112ms/step - loss: 0.3851 - accuracy: 0.8616 - val_loss: 0.3580 - val_accuracy: 0.8728\n"
          ]
        },
        {
          "output_type": "execute_result",
          "data": {
            "text/plain": [
              "<keras.callbacks.History at 0x7f4a5ca55850>"
            ]
          },
          "metadata": {},
          "execution_count": 15
        }
      ]
    },
    {
      "cell_type": "code",
      "source": [
        "batch_size = 512\n",
        "epochs = 12\n",
        "from datetime import datetime\n",
        "\n",
        "date_and_time = datetime.now().strftime(\"%Y-%m-%d %H:%M:%S\")\n",
        "\n",
        "wandb.init(project=\"Övning3_v2\",\n",
        "           name=f\"training {date_and_time}\",\n",
        "           config={\"batch_size\": batch_size, \"epochs\": epochs})\n",
        "#from datetime import datetime\n",
        "\n",
        "#date_and_time = datetime.now().strftime(\"%Y-%m-%d %H:%M:%S\")\n",
        "\n",
        "#wandb_run = wandb.init(\n",
        "#    project=\"Övning3_v2\",\n",
        "#    name=f\"trainig {date_and_time}\"\n",
        "#)"
      ],
      "metadata": {
        "colab": {
          "base_uri": "https://localhost:8080/",
          "height": 90
        },
        "id": "kQHoVmnk0RrC",
        "outputId": "ee1e1423-30bb-49bb-d177-e8b85d76632d"
      },
      "id": "kQHoVmnk0RrC",
      "execution_count": 31,
      "outputs": [
        {
          "output_type": "display_data",
          "data": {
            "text/plain": [
              "<IPython.core.display.HTML object>"
            ],
            "text/html": [
              "Tracking run with wandb version 0.13.6"
            ]
          },
          "metadata": {}
        },
        {
          "output_type": "display_data",
          "data": {
            "text/plain": [
              "<IPython.core.display.HTML object>"
            ],
            "text/html": [
              "Run data is saved locally in <code>/content/wandb/run-20221212_101316-15p24t3a</code>"
            ]
          },
          "metadata": {}
        },
        {
          "output_type": "display_data",
          "data": {
            "text/plain": [
              "<IPython.core.display.HTML object>"
            ],
            "text/html": [
              "Syncing run <strong><a href=\"https://wandb.ai/amir_anissian/%C3%96vning3_v2/runs/15p24t3a\" target=\"_blank\">training 2022-12-12 10:13:16</a></strong> to <a href=\"https://wandb.ai/amir_anissian/%C3%96vning3_v2\" target=\"_blank\">Weights & Biases</a> (<a href=\"https://wandb.me/run\" target=\"_blank\">docs</a>)<br/>"
            ]
          },
          "metadata": {}
        },
        {
          "output_type": "execute_result",
          "data": {
            "text/html": [
              "<button onClick=\"this.nextSibling.style.display='block';this.style.display='none';\">Display W&B run</button><iframe src=\"https://wandb.ai/amir_anissian/%C3%96vning3_v2/runs/15p24t3a?jupyter=true\" style=\"border:none;width:100%;height:420px;display:none;\"></iframe>"
            ],
            "text/plain": [
              "<wandb.sdk.wandb_run.Run at 0x7f4a542ac610>"
            ]
          },
          "metadata": {},
          "execution_count": 31
        }
      ]
    },
    {
      "cell_type": "code",
      "source": [
        "\n",
        "model.fit(x_train, y_train, batch_size=batch_size,\n",
        "          epochs=epochs, validation_split=0.1,\n",
        "          callbacks=[wandb.keras.WandbCallback()])\n",
        "wandb.finish()\n"
      ],
      "metadata": {
        "colab": {
          "base_uri": "https://localhost:8080/",
          "height": 898,
          "referenced_widgets": [
            "ed63c7dcf640463fb5eeafa0b8bffdd2",
            "5bd87dd6c2c94cb38cc43f2496d27fd8",
            "2e7dd9f9b73d4e1c81e557953e0a6f0d",
            "2ce5275785934b3e84150a6c09332a12",
            "0ad92f2a5f524760bc849f646041efbd",
            "7bfbcea2e19040858bf9c518683400af",
            "22d5d389325345e8959adf379262cc66",
            "580282d2a008488ab69bd04fafca8482"
          ]
        },
        "id": "1MRbdGCm1kxO",
        "outputId": "199a58ee-c63a-44c8-9ec6-40e311207572"
      },
      "id": "1MRbdGCm1kxO",
      "execution_count": 32,
      "outputs": [
        {
          "output_type": "stream",
          "name": "stdout",
          "text": [
            "Epoch 1/12\n",
            "422/422 [==============================] - ETA: 0s - loss: 0.1266 - accuracy: 0.9551"
          ]
        },
        {
          "output_type": "stream",
          "name": "stderr",
          "text": [
            "WARNING:absl:Found untraced functions such as _jit_compiled_convolution_op, _jit_compiled_convolution_op while saving (showing 2 of 2). These functions will not be directly callable after loading.\n",
            "\u001b[34m\u001b[1mwandb\u001b[0m: Adding directory to artifact (/content/wandb/run-20221212_101316-15p24t3a/files/model-best)... Done. 0.0s\n"
          ]
        },
        {
          "output_type": "stream",
          "name": "stdout",
          "text": [
            "\b\b\b\b\b\b\b\b\b\b\b\b\b\b\b\b\b\b\b\b\b\b\b\b\b\b\b\b\b\b\b\b\b\b\b\b\b\b\b\b\b\b\b\b\b\b\b\b\b\b\b\b\b\b\b\b\b\b\b\b\b\b\b\b\b\b\b\b\b\b\b\b\b\b\b\b\b\b\b\b\b\b\b\b\r422/422 [==============================] - 47s 111ms/step - loss: 0.1266 - accuracy: 0.9551 - val_loss: 0.2796 - val_accuracy: 0.9088\n",
            "Epoch 2/12\n",
            "422/422 [==============================] - 46s 109ms/step - loss: 0.1218 - accuracy: 0.9555 - val_loss: 0.2922 - val_accuracy: 0.9085\n",
            "Epoch 3/12\n",
            "422/422 [==============================] - ETA: 0s - loss: 0.1180 - accuracy: 0.9570"
          ]
        },
        {
          "output_type": "stream",
          "name": "stderr",
          "text": [
            "WARNING:absl:Found untraced functions such as _jit_compiled_convolution_op, _jit_compiled_convolution_op while saving (showing 2 of 2). These functions will not be directly callable after loading.\n",
            "\u001b[34m\u001b[1mwandb\u001b[0m: Adding directory to artifact (/content/wandb/run-20221212_101316-15p24t3a/files/model-best)... Done. 0.0s\n"
          ]
        },
        {
          "output_type": "stream",
          "name": "stdout",
          "text": [
            "\b\b\b\b\b\b\b\b\b\b\b\b\b\b\b\b\b\b\b\b\b\b\b\b\b\b\b\b\b\b\b\b\b\b\b\b\b\b\b\b\b\b\b\b\b\b\b\b\b\b\b\b\b\b\b\b\b\b\b\b\b\b\b\b\b\b\b\b\b\b\b\b\b\b\b\b\b\b\b\b\b\b\b\b\r422/422 [==============================] - 47s 111ms/step - loss: 0.1180 - accuracy: 0.9570 - val_loss: 0.2776 - val_accuracy: 0.9120\n",
            "Epoch 4/12\n",
            "422/422 [==============================] - 46s 110ms/step - loss: 0.1146 - accuracy: 0.9583 - val_loss: 0.2783 - val_accuracy: 0.9113\n",
            "Epoch 5/12\n",
            "422/422 [==============================] - 48s 113ms/step - loss: 0.1131 - accuracy: 0.9592 - val_loss: 0.2906 - val_accuracy: 0.9092\n",
            "Epoch 6/12\n",
            "422/422 [==============================] - 46s 108ms/step - loss: 0.1089 - accuracy: 0.9610 - val_loss: 0.3014 - val_accuracy: 0.9090\n",
            "Epoch 7/12\n",
            "422/422 [==============================] - 46s 109ms/step - loss: 0.1079 - accuracy: 0.9611 - val_loss: 0.2910 - val_accuracy: 0.9105\n",
            "Epoch 8/12\n",
            "422/422 [==============================] - 46s 109ms/step - loss: 0.1046 - accuracy: 0.9624 - val_loss: 0.2914 - val_accuracy: 0.9107\n",
            "Epoch 9/12\n",
            "422/422 [==============================] - 48s 113ms/step - loss: 0.1034 - accuracy: 0.9624 - val_loss: 0.3049 - val_accuracy: 0.9065\n",
            "Epoch 10/12\n",
            "422/422 [==============================] - 46s 109ms/step - loss: 0.1000 - accuracy: 0.9641 - val_loss: 0.3206 - val_accuracy: 0.9077\n",
            "Epoch 11/12\n",
            "422/422 [==============================] - 46s 109ms/step - loss: 0.0978 - accuracy: 0.9646 - val_loss: 0.3173 - val_accuracy: 0.9098\n",
            "Epoch 12/12\n",
            "422/422 [==============================] - 46s 109ms/step - loss: 0.0952 - accuracy: 0.9659 - val_loss: 0.3089 - val_accuracy: 0.9083\n"
          ]
        },
        {
          "output_type": "display_data",
          "data": {
            "text/plain": [
              "<IPython.core.display.HTML object>"
            ],
            "text/html": [
              "Waiting for W&B process to finish... <strong style=\"color:green\">(success).</strong>"
            ]
          },
          "metadata": {}
        },
        {
          "output_type": "display_data",
          "data": {
            "text/plain": [
              "VBox(children=(Label(value='1.477 MB of 1.477 MB uploaded (0.012 MB deduped)\\r'), FloatProgress(value=1.0, max…"
            ],
            "application/vnd.jupyter.widget-view+json": {
              "version_major": 2,
              "version_minor": 0,
              "model_id": "ed63c7dcf640463fb5eeafa0b8bffdd2"
            }
          },
          "metadata": {}
        },
        {
          "output_type": "display_data",
          "data": {
            "text/plain": [
              "<IPython.core.display.HTML object>"
            ],
            "text/html": [
              "<style>\n",
              "    table.wandb td:nth-child(1) { padding: 0 10px; text-align: left ; width: auto;} td:nth-child(2) {text-align: left ; width: 100%}\n",
              "    .wandb-row { display: flex; flex-direction: row; flex-wrap: wrap; justify-content: flex-start; width: 100% }\n",
              "    .wandb-col { display: flex; flex-direction: column; flex-basis: 100%; flex: 1; padding: 10px; }\n",
              "    </style>\n",
              "<div class=\"wandb-row\"><div class=\"wandb-col\"><h3>Run history:</h3><br/><table class=\"wandb\"><tr><td>accuracy</td><td>▁▁▂▃▄▅▅▆▆▇▇█</td></tr><tr><td>epoch</td><td>▁▂▂▃▄▄▅▅▆▇▇█</td></tr><tr><td>loss</td><td>█▇▆▅▅▄▄▃▃▂▂▁</td></tr><tr><td>val_accuracy</td><td>▄▄█▇▄▄▆▆▁▂▅▃</td></tr><tr><td>val_loss</td><td>▁▃▁▁▃▅▃▃▅█▇▆</td></tr></table><br/></div><div class=\"wandb-col\"><h3>Run summary:</h3><br/><table class=\"wandb\"><tr><td>accuracy</td><td>0.96594</td></tr><tr><td>best_epoch</td><td>2</td></tr><tr><td>best_val_loss</td><td>0.27762</td></tr><tr><td>epoch</td><td>11</td></tr><tr><td>loss</td><td>0.09515</td></tr><tr><td>val_accuracy</td><td>0.90833</td></tr><tr><td>val_loss</td><td>0.30894</td></tr></table><br/></div></div>"
            ]
          },
          "metadata": {}
        },
        {
          "output_type": "display_data",
          "data": {
            "text/plain": [
              "<IPython.core.display.HTML object>"
            ],
            "text/html": [
              "Synced <strong style=\"color:#cdcd00\">training 2022-12-12 10:13:16</strong>: <a href=\"https://wandb.ai/amir_anissian/%C3%96vning3_v2/runs/15p24t3a\" target=\"_blank\">https://wandb.ai/amir_anissian/%C3%96vning3_v2/runs/15p24t3a</a><br/>Synced 5 W&B file(s), 1 media file(s), 7 artifact file(s) and 1 other file(s)"
            ]
          },
          "metadata": {}
        },
        {
          "output_type": "display_data",
          "data": {
            "text/plain": [
              "<IPython.core.display.HTML object>"
            ],
            "text/html": [
              "Find logs at: <code>./wandb/run-20221212_101316-15p24t3a/logs</code>"
            ]
          },
          "metadata": {}
        }
      ]
    },
    {
      "cell_type": "code",
      "source": [],
      "metadata": {
        "id": "zteNNdDI1oBT"
      },
      "id": "zteNNdDI1oBT",
      "execution_count": null,
      "outputs": []
    }
  ],
  "metadata": {
    "colab": {
      "provenance": [],
      "include_colab_link": true
    },
    "kernelspec": {
      "display_name": "Python 3 (ipykernel)",
      "language": "python",
      "name": "python3"
    },
    "language_info": {
      "codemirror_mode": {
        "name": "ipython",
        "version": 3
      },
      "file_extension": ".py",
      "mimetype": "text/x-python",
      "name": "python",
      "nbconvert_exporter": "python",
      "pygments_lexer": "ipython3",
      "version": "3.10.1"
    },
    "widgets": {
      "application/vnd.jupyter.widget-state+json": {
        "ed63c7dcf640463fb5eeafa0b8bffdd2": {
          "model_module": "@jupyter-widgets/controls",
          "model_name": "VBoxModel",
          "model_module_version": "1.5.0",
          "state": {
            "_dom_classes": [],
            "_model_module": "@jupyter-widgets/controls",
            "_model_module_version": "1.5.0",
            "_model_name": "VBoxModel",
            "_view_count": null,
            "_view_module": "@jupyter-widgets/controls",
            "_view_module_version": "1.5.0",
            "_view_name": "VBoxView",
            "box_style": "",
            "children": [
              "IPY_MODEL_5bd87dd6c2c94cb38cc43f2496d27fd8",
              "IPY_MODEL_2e7dd9f9b73d4e1c81e557953e0a6f0d"
            ],
            "layout": "IPY_MODEL_2ce5275785934b3e84150a6c09332a12"
          }
        },
        "5bd87dd6c2c94cb38cc43f2496d27fd8": {
          "model_module": "@jupyter-widgets/controls",
          "model_name": "LabelModel",
          "model_module_version": "1.5.0",
          "state": {
            "_dom_classes": [],
            "_model_module": "@jupyter-widgets/controls",
            "_model_module_version": "1.5.0",
            "_model_name": "LabelModel",
            "_view_count": null,
            "_view_module": "@jupyter-widgets/controls",
            "_view_module_version": "1.5.0",
            "_view_name": "LabelView",
            "description": "",
            "description_tooltip": null,
            "layout": "IPY_MODEL_0ad92f2a5f524760bc849f646041efbd",
            "placeholder": "​",
            "style": "IPY_MODEL_7bfbcea2e19040858bf9c518683400af",
            "value": "1.043 MB of 1.485 MB uploaded (0.012 MB deduped)\r"
          }
        },
        "2e7dd9f9b73d4e1c81e557953e0a6f0d": {
          "model_module": "@jupyter-widgets/controls",
          "model_name": "FloatProgressModel",
          "model_module_version": "1.5.0",
          "state": {
            "_dom_classes": [],
            "_model_module": "@jupyter-widgets/controls",
            "_model_module_version": "1.5.0",
            "_model_name": "FloatProgressModel",
            "_view_count": null,
            "_view_module": "@jupyter-widgets/controls",
            "_view_module_version": "1.5.0",
            "_view_name": "ProgressView",
            "bar_style": "",
            "description": "",
            "description_tooltip": null,
            "layout": "IPY_MODEL_22d5d389325345e8959adf379262cc66",
            "max": 1,
            "min": 0,
            "orientation": "horizontal",
            "style": "IPY_MODEL_580282d2a008488ab69bd04fafca8482",
            "value": 0.7026461599335055
          }
        },
        "2ce5275785934b3e84150a6c09332a12": {
          "model_module": "@jupyter-widgets/base",
          "model_name": "LayoutModel",
          "model_module_version": "1.2.0",
          "state": {
            "_model_module": "@jupyter-widgets/base",
            "_model_module_version": "1.2.0",
            "_model_name": "LayoutModel",
            "_view_count": null,
            "_view_module": "@jupyter-widgets/base",
            "_view_module_version": "1.2.0",
            "_view_name": "LayoutView",
            "align_content": null,
            "align_items": null,
            "align_self": null,
            "border": null,
            "bottom": null,
            "display": null,
            "flex": null,
            "flex_flow": null,
            "grid_area": null,
            "grid_auto_columns": null,
            "grid_auto_flow": null,
            "grid_auto_rows": null,
            "grid_column": null,
            "grid_gap": null,
            "grid_row": null,
            "grid_template_areas": null,
            "grid_template_columns": null,
            "grid_template_rows": null,
            "height": null,
            "justify_content": null,
            "justify_items": null,
            "left": null,
            "margin": null,
            "max_height": null,
            "max_width": null,
            "min_height": null,
            "min_width": null,
            "object_fit": null,
            "object_position": null,
            "order": null,
            "overflow": null,
            "overflow_x": null,
            "overflow_y": null,
            "padding": null,
            "right": null,
            "top": null,
            "visibility": null,
            "width": null
          }
        },
        "0ad92f2a5f524760bc849f646041efbd": {
          "model_module": "@jupyter-widgets/base",
          "model_name": "LayoutModel",
          "model_module_version": "1.2.0",
          "state": {
            "_model_module": "@jupyter-widgets/base",
            "_model_module_version": "1.2.0",
            "_model_name": "LayoutModel",
            "_view_count": null,
            "_view_module": "@jupyter-widgets/base",
            "_view_module_version": "1.2.0",
            "_view_name": "LayoutView",
            "align_content": null,
            "align_items": null,
            "align_self": null,
            "border": null,
            "bottom": null,
            "display": null,
            "flex": null,
            "flex_flow": null,
            "grid_area": null,
            "grid_auto_columns": null,
            "grid_auto_flow": null,
            "grid_auto_rows": null,
            "grid_column": null,
            "grid_gap": null,
            "grid_row": null,
            "grid_template_areas": null,
            "grid_template_columns": null,
            "grid_template_rows": null,
            "height": null,
            "justify_content": null,
            "justify_items": null,
            "left": null,
            "margin": null,
            "max_height": null,
            "max_width": null,
            "min_height": null,
            "min_width": null,
            "object_fit": null,
            "object_position": null,
            "order": null,
            "overflow": null,
            "overflow_x": null,
            "overflow_y": null,
            "padding": null,
            "right": null,
            "top": null,
            "visibility": null,
            "width": null
          }
        },
        "7bfbcea2e19040858bf9c518683400af": {
          "model_module": "@jupyter-widgets/controls",
          "model_name": "DescriptionStyleModel",
          "model_module_version": "1.5.0",
          "state": {
            "_model_module": "@jupyter-widgets/controls",
            "_model_module_version": "1.5.0",
            "_model_name": "DescriptionStyleModel",
            "_view_count": null,
            "_view_module": "@jupyter-widgets/base",
            "_view_module_version": "1.2.0",
            "_view_name": "StyleView",
            "description_width": ""
          }
        },
        "22d5d389325345e8959adf379262cc66": {
          "model_module": "@jupyter-widgets/base",
          "model_name": "LayoutModel",
          "model_module_version": "1.2.0",
          "state": {
            "_model_module": "@jupyter-widgets/base",
            "_model_module_version": "1.2.0",
            "_model_name": "LayoutModel",
            "_view_count": null,
            "_view_module": "@jupyter-widgets/base",
            "_view_module_version": "1.2.0",
            "_view_name": "LayoutView",
            "align_content": null,
            "align_items": null,
            "align_self": null,
            "border": null,
            "bottom": null,
            "display": null,
            "flex": null,
            "flex_flow": null,
            "grid_area": null,
            "grid_auto_columns": null,
            "grid_auto_flow": null,
            "grid_auto_rows": null,
            "grid_column": null,
            "grid_gap": null,
            "grid_row": null,
            "grid_template_areas": null,
            "grid_template_columns": null,
            "grid_template_rows": null,
            "height": null,
            "justify_content": null,
            "justify_items": null,
            "left": null,
            "margin": null,
            "max_height": null,
            "max_width": null,
            "min_height": null,
            "min_width": null,
            "object_fit": null,
            "object_position": null,
            "order": null,
            "overflow": null,
            "overflow_x": null,
            "overflow_y": null,
            "padding": null,
            "right": null,
            "top": null,
            "visibility": null,
            "width": null
          }
        },
        "580282d2a008488ab69bd04fafca8482": {
          "model_module": "@jupyter-widgets/controls",
          "model_name": "ProgressStyleModel",
          "model_module_version": "1.5.0",
          "state": {
            "_model_module": "@jupyter-widgets/controls",
            "_model_module_version": "1.5.0",
            "_model_name": "ProgressStyleModel",
            "_view_count": null,
            "_view_module": "@jupyter-widgets/base",
            "_view_module_version": "1.2.0",
            "_view_name": "StyleView",
            "bar_color": null,
            "description_width": ""
          }
        }
      }
    }
  },
  "nbformat": 4,
  "nbformat_minor": 5
}