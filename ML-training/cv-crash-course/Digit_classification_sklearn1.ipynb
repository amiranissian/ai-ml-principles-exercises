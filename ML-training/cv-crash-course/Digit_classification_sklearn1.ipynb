{
  "nbformat": 4,
  "nbformat_minor": 0,
  "metadata": {
    "colab": {
      "provenance": [],
      "authorship_tag": "ABX9TyPbMm+CE6umEe81KPfONSin",
      "include_colab_link": true
    },
    "kernelspec": {
      "name": "python3",
      "display_name": "Python 3"
    },
    "language_info": {
      "name": "python"
    }
  },
  "cells": [
    {
      "cell_type": "markdown",
      "metadata": {
        "id": "view-in-github",
        "colab_type": "text"
      },
      "source": [
        "<a href=\"https://colab.research.google.com/github/amiranissian/ai-ml-principles-exercises/blob/main/ML-training/cv-crash-course/Digit_classification_sklearn1.ipynb\" target=\"_parent\"><img src=\"https://colab.research.google.com/assets/colab-badge.svg\" alt=\"Open In Colab\"/></a>"
      ]
    },
    {
      "cell_type": "code",
      "execution_count": 1,
      "metadata": {
        "id": "njdSIaeFodjJ"
      },
      "outputs": [],
      "source": [
        "import sklearn"
      ]
    },
    {
      "cell_type": "code",
      "source": [
        "import sklearn.datasets as datasets"
      ],
      "metadata": {
        "id": "AgLNIOw1opVP"
      },
      "execution_count": 2,
      "outputs": []
    },
    {
      "cell_type": "code",
      "source": [
        "data = datasets.load_digits()"
      ],
      "metadata": {
        "id": "aAYaQloao9Ld"
      },
      "execution_count": 148,
      "outputs": []
    },
    {
      "cell_type": "code",
      "source": [
        "data.keys()"
      ],
      "metadata": {
        "colab": {
          "base_uri": "https://localhost:8080/"
        },
        "id": "gr6iFuG0pLxS",
        "outputId": "810f2f20-fb35-424c-9cc2-7ff8e8f80225"
      },
      "execution_count": 149,
      "outputs": [
        {
          "output_type": "execute_result",
          "data": {
            "text/plain": [
              "dict_keys(['data', 'target', 'frame', 'feature_names', 'target_names', 'images', 'DESCR'])"
            ]
          },
          "metadata": {},
          "execution_count": 149
        }
      ]
    },
    {
      "cell_type": "code",
      "source": [
        "data.images[0]"
      ],
      "metadata": {
        "colab": {
          "base_uri": "https://localhost:8080/"
        },
        "id": "XPsEpwqApTB7",
        "outputId": "5df22f12-8f60-43d5-dc9e-31de79468597"
      },
      "execution_count": 150,
      "outputs": [
        {
          "output_type": "execute_result",
          "data": {
            "text/plain": [
              "array([[ 0.,  0.,  5., 13.,  9.,  1.,  0.,  0.],\n",
              "       [ 0.,  0., 13., 15., 10., 15.,  5.,  0.],\n",
              "       [ 0.,  3., 15.,  2.,  0., 11.,  8.,  0.],\n",
              "       [ 0.,  4., 12.,  0.,  0.,  8.,  8.,  0.],\n",
              "       [ 0.,  5.,  8.,  0.,  0.,  9.,  8.,  0.],\n",
              "       [ 0.,  4., 11.,  0.,  1., 12.,  7.,  0.],\n",
              "       [ 0.,  2., 14.,  5., 10., 12.,  0.,  0.],\n",
              "       [ 0.,  0.,  6., 13., 10.,  0.,  0.,  0.]])"
            ]
          },
          "metadata": {},
          "execution_count": 150
        }
      ]
    },
    {
      "cell_type": "code",
      "source": [
        "import numpy as np\n",
        "from PIL import Image"
      ],
      "metadata": {
        "id": "szEiAco5qYAe"
      },
      "execution_count": 151,
      "outputs": []
    },
    {
      "cell_type": "code",
      "source": [
        "i = 3\n",
        "print(data.target[i])\n",
        "Image.fromarray((data.images[i] /16 * 255).astype(np.uint8), \"L\").resize((100, 100), resample= Image.NEAREST)"
      ],
      "metadata": {
        "colab": {
          "base_uri": "https://localhost:8080/",
          "height": 134
        },
        "id": "xgcMkgX5scCw",
        "outputId": "eed5d457-23cc-4c57-9577-1c28ab29747c"
      },
      "execution_count": 153,
      "outputs": [
        {
          "output_type": "stream",
          "name": "stdout",
          "text": [
            "3\n"
          ]
        },
        {
          "output_type": "execute_result",
          "data": {
            "text/plain": [
              "<PIL.Image.Image image mode=L size=100x100 at 0x7F8CB54C8E80>"
            ],
            "image/png": "[encoded data removed]"
          },
          "metadata": {},
          "execution_count": 153
        }
      ]
    },
    {
      "cell_type": "code",
      "source": [
        "data.target[3]"
      ],
      "metadata": {
        "colab": {
          "base_uri": "https://localhost:8080/"
        },
        "id": "h2EOm0lDs5Ne",
        "outputId": "ace183cf-5e30-4067-d037-93a9e320fb7e"
      },
      "execution_count": 155,
      "outputs": [
        {
          "output_type": "execute_result",
          "data": {
            "text/plain": [
              "3"
            ]
          },
          "metadata": {},
          "execution_count": 155
        }
      ]
    },
    {
      "cell_type": "markdown",
      "source": [],
      "metadata": {
        "id": "gZWivumtudfh"
      }
    },
    {
      "cell_type": "code",
      "source": [
        "data.images.reshape((len(data.images), -1)).shape\n",
        "\n"
      ],
      "metadata": {
        "colab": {
          "base_uri": "https://localhost:8080/"
        },
        "id": "vuJRFP0RyDnD",
        "outputId": "5ee8cfd4-b100-439b-84f0-cce919ef99cd"
      },
      "execution_count": 156,
      "outputs": [
        {
          "output_type": "execute_result",
          "data": {
            "text/plain": [
              "(1797, 64)"
            ]
          },
          "metadata": {},
          "execution_count": 156
        }
      ]
    },
    {
      "cell_type": "markdown",
      "source": [
        "# Add some thing\n",
        "* I did\n",
        "* again\n",
        "\n",
        "---\n",
        "asdf\n",
        "\n"
      ],
      "metadata": {
        "id": "KzshUwbGwM3J"
      }
    },
    {
      "cell_type": "code",
      "source": [
        "from sklearn.model_selection import train_test_split"
      ],
      "metadata": {
        "id": "_d6l3XYPyFpA"
      },
      "execution_count": 157,
      "outputs": []
    },
    {
      "cell_type": "code",
      "source": [
        "flat_dataset = data.images.reshape((len(data.images),-1))\n",
        "X_train, X_test, y_train, y_test = train_test_split(flat_dataset, data.target, train_size= 0.8)"
      ],
      "metadata": {
        "id": "zZr5CSqrwrEI"
      },
      "execution_count": 158,
      "outputs": []
    },
    {
      "cell_type": "code",
      "source": [
        "X_train.shape"
      ],
      "metadata": {
        "colab": {
          "base_uri": "https://localhost:8080/"
        },
        "id": "OtbipBJMyL-E",
        "outputId": "129d6ffa-95ec-41ef-db5c-def027c28ba7"
      },
      "execution_count": 159,
      "outputs": [
        {
          "output_type": "execute_result",
          "data": {
            "text/plain": [
              "(1437, 64)"
            ]
          },
          "metadata": {},
          "execution_count": 159
        }
      ]
    },
    {
      "cell_type": "code",
      "source": [
        "print(y_train[1])\n",
        "Image.fromarray((X_train[1].reshape((8,8))/16 * 255).astype(np.uint8), \"L\").resize((100, 100))"
      ],
      "metadata": {
        "colab": {
          "base_uri": "https://localhost:8080/",
          "height": 134
        },
        "id": "ZWMVcuDJ0IGj",
        "outputId": "4271275b-ec67-432a-d9ce-45733e677ae9"
      },
      "execution_count": 160,
      "outputs": [
        {
          "output_type": "stream",
          "name": "stdout",
          "text": [
            "0\n"
          ]
        },
        {
          "output_type": "execute_result",
          "data": {
            "text/plain": [
              "<PIL.Image.Image image mode=L size=100x100 at 0x7F8CB55ED550>"
            ],
            "image/png": "[encoded data removed]"
          },
          "metadata": {},
          "execution_count": 160
        }
      ]
    },
    {
      "cell_type": "code",
      "source": [
        "Image.fromarray((X_train[1].reshape((8,8))/16 * 255).astype(np.uint8), \"L\").resize((100, 100))"
      ],
      "metadata": {
        "colab": {
          "base_uri": "https://localhost:8080/",
          "height": 117
        },
        "id": "9avuBbjd1npe",
        "outputId": "3a1f2f25-5fd0-4072-8f71-d4a62aa222bf"
      },
      "execution_count": 161,
      "outputs": [
        {
          "output_type": "execute_result",
          "data": {
            "text/plain": [
              "<PIL.Image.Image image mode=L size=100x100 at 0x7F8CB5881190>"
            ],
            "image/png": "[encoded data removed]"
          },
          "metadata": {},
          "execution_count": 161
        }
      ]
    },
    {
      "cell_type": "code",
      "source": [
        "print(y_test[1])\n",
        "Image.fromarray((X_test[1].reshape((8,8))/16 * 255).astype(np.uint8), \"L\").resize((100, 100))"
      ],
      "metadata": {
        "colab": {
          "base_uri": "https://localhost:8080/",
          "height": 134
        },
        "id": "p9FMNicV5fuP",
        "outputId": "48609706-4060-49fe-ad59-47163fd788c8"
      },
      "execution_count": 162,
      "outputs": [
        {
          "output_type": "stream",
          "name": "stdout",
          "text": [
            "7\n"
          ]
        },
        {
          "output_type": "execute_result",
          "data": {
            "text/plain": [
              "<PIL.Image.Image image mode=L size=100x100 at 0x7F8CB5AA64C0>"
            ],
            "image/png": "[encoded data removed]"
          },
          "metadata": {},
          "execution_count": 162
        }
      ]
    },
    {
      "cell_type": "code",
      "source": [
        "from sklearn import svm\n",
        "\n"
      ],
      "metadata": {
        "id": "OruT24Lo6DfM"
      },
      "execution_count": 163,
      "outputs": []
    },
    {
      "cell_type": "code",
      "source": [
        "model = svm.SVC(gamma=0.001)\n",
        "model.fit(X_train, y_train)"
      ],
      "metadata": {
        "id": "Gt2wDDkC9B-D",
        "colab": {
          "base_uri": "https://localhost:8080/"
        },
        "outputId": "3f19f076-2868-48da-a4f8-c261579f4d75"
      },
      "execution_count": 164,
      "outputs": [
        {
          "output_type": "execute_result",
          "data": {
            "text/plain": [
              "SVC(gamma=0.001)"
            ]
          },
          "metadata": {},
          "execution_count": 164
        }
      ]
    },
    {
      "cell_type": "code",
      "source": [
        "# Predict the first ten samples from the test dataset\n",
        "model.predict(X_test[0:10])"
      ],
      "metadata": {
        "colab": {
          "base_uri": "https://localhost:8080/"
        },
        "id": "4OnxaDcn95iE",
        "outputId": "d5bd1972-2b6b-4a37-d792-f8b453f7ce6d"
      },
      "execution_count": 165,
      "outputs": [
        {
          "output_type": "execute_result",
          "data": {
            "text/plain": [
              "array([6, 7, 6, 2, 0, 6, 1, 7, 4, 8])"
            ]
          },
          "metadata": {},
          "execution_count": 165
        }
      ]
    },
    {
      "cell_type": "code",
      "source": [
        "# Show the first ten ground truth values from the test dataset\n",
        "y_test[0:10]"
      ],
      "metadata": {
        "colab": {
          "base_uri": "https://localhost:8080/"
        },
        "id": "0IKMZUPy99Gp",
        "outputId": "4d77cf89-6843-4f69-ab60-1c3e7eb18e82"
      },
      "execution_count": 166,
      "outputs": [
        {
          "output_type": "execute_result",
          "data": {
            "text/plain": [
              "array([6, 7, 6, 2, 0, 6, 1, 7, 4, 8])"
            ]
          },
          "metadata": {},
          "execution_count": 166
        }
      ]
    },
    {
      "cell_type": "code",
      "source": [
        "# Compare predicted and true\n",
        "model.predict(X_test[0:10]) == y_test[0:10]"
      ],
      "metadata": {
        "colab": {
          "base_uri": "https://localhost:8080/"
        },
        "id": "3PPMV2La-ALz",
        "outputId": "4f320523-dc7b-40b6-d042-eb6259869f17"
      },
      "execution_count": 167,
      "outputs": [
        {
          "output_type": "execute_result",
          "data": {
            "text/plain": [
              "array([ True,  True,  True,  True,  True,  True,  True,  True,  True,\n",
              "        True])"
            ]
          },
          "metadata": {},
          "execution_count": 167
        }
      ]
    },
    {
      "cell_type": "code",
      "source": [
        "from sklearn import metrics\n",
        "\n",
        "predicted = model.predict(X_test)\n",
        "print(metrics.classification_report(y_test, predicted))"
      ],
      "metadata": {
        "colab": {
          "base_uri": "https://localhost:8080/"
        },
        "id": "IwGBdP0x-Dxh",
        "outputId": "c8ad85d9-6088-4172-df57-f1f49c5ab0b1"
      },
      "execution_count": 168,
      "outputs": [
        {
          "output_type": "stream",
          "name": "stdout",
          "text": [
            "              precision    recall  f1-score   support\n",
            "\n",
            "           0       1.00      1.00      1.00        28\n",
            "           1       0.97      1.00      0.99        38\n",
            "           2       1.00      1.00      1.00        38\n",
            "           3       0.97      1.00      0.98        31\n",
            "           4       1.00      1.00      1.00        28\n",
            "           5       1.00      0.98      0.99        51\n",
            "           6       1.00      1.00      1.00        36\n",
            "           7       1.00      1.00      1.00        33\n",
            "           8       1.00      0.97      0.99        38\n",
            "           9       0.97      0.97      0.97        39\n",
            "\n",
            "    accuracy                           0.99       360\n",
            "   macro avg       0.99      0.99      0.99       360\n",
            "weighted avg       0.99      0.99      0.99       360\n",
            "\n"
          ]
        }
      ]
    },
    {
      "cell_type": "code",
      "source": [
        "metrics.ConfusionMatrixDisplay.from_predictions(y_test, predicted)"
      ],
      "metadata": {
        "colab": {
          "base_uri": "https://localhost:8080/",
          "height": 300
        },
        "id": "nas9bk8Q-JV_",
        "outputId": "47a31caa-7645-413c-ef10-853bdb2672c7"
      },
      "execution_count": 169,
      "outputs": [
        {
          "output_type": "execute_result",
          "data": {
            "text/plain": [
              "<sklearn.metrics._plot.confusion_matrix.ConfusionMatrixDisplay at 0x7f8cc00e7100>"
            ]
          },
          "metadata": {},
          "execution_count": 169
        },
        {
          "output_type": "display_data",
          "data": {
            "text/plain": [
              "<Figure size 432x288 with 2 Axes>"
            ],
            "image/png": "[encoded data removed]"
          },
          "metadata": {
            "needs_background": "light"
          }
        }
      ]
    },
    {
      "cell_type": "code",
      "source": [],
      "metadata": {
        "id": "T9x4ctE2-OoK"
      },
      "execution_count": 169,
      "outputs": []
    },
    {
      "cell_type": "code",
      "source": [
        "import pickle"
      ],
      "metadata": {
        "id": "-rVuBeLL-SO3"
      },
      "execution_count": 170,
      "outputs": []
    },
    {
      "cell_type": "code",
      "source": [
        "with open(\"model.pkl\", \"wb\") as fio:\n",
        "  pickle.dump(model, fio)"
      ],
      "metadata": {
        "id": "vRXgjrbY-Xpa"
      },
      "execution_count": 171,
      "outputs": []
    },
    {
      "cell_type": "code",
      "source": [
        "with open(\"model.pkl\", \"rb\") as fio:\n",
        "  mymodel = pickle.load(fio)"
      ],
      "metadata": {
        "id": "wrLB8ZX3-bUj"
      },
      "execution_count": 172,
      "outputs": []
    },
    {
      "cell_type": "code",
      "source": [
        "# Test that the loaded model is still capabe to predict accurately\n",
        "mymodel.predict(X_test[:10]) == y_test[:10]"
      ],
      "metadata": {
        "colab": {
          "base_uri": "https://localhost:8080/"
        },
        "id": "1GE8KEuu-e4u",
        "outputId": "cac22e9f-da3f-460b-a167-c41108c545fc"
      },
      "execution_count": 173,
      "outputs": [
        {
          "output_type": "execute_result",
          "data": {
            "text/plain": [
              "array([ True,  True,  True,  True,  True,  True,  True,  True,  True,\n",
              "        True])"
            ]
          },
          "metadata": {},
          "execution_count": 173
        }
      ]
    },
    {
      "cell_type": "code",
      "source": [
        "im = Image.open(\"22.jpg\").resize((8,8))"
      ],
      "metadata": {
        "id": "xhWwBpbk-h8c"
      },
      "execution_count": 174,
      "outputs": []
    },
    {
      "cell_type": "code",
      "source": [
        "im.resize((100,100), resample=Image.NEAREST)"
      ],
      "metadata": {
        "colab": {
          "base_uri": "https://localhost:8080/",
          "height": 117
        },
        "id": "so9p45NnA9OL",
        "outputId": "86fbc716-b530-4209-9e09-dead45fe84b3"
      },
      "execution_count": 175,
      "outputs": [
        {
          "output_type": "execute_result",
          "data": {
            "text/plain": [
              "<PIL.Image.Image image mode=L size=100x100 at 0x7F8CB5809460>"
            ],
            "image/png": "[encoded data removed]"
          },
          "metadata": {},
          "execution_count": 175
        }
      ]
    },
    {
      "cell_type": "code",
      "source": [
        "np_im = np.array(im)"
      ],
      "metadata": {
        "id": "MWA4hfLklOqs"
      },
      "execution_count": 176,
      "outputs": []
    },
    {
      "cell_type": "code",
      "source": [
        "#convert from (8,8,3)to (8,8)\n",
        "#im = np.zeros((8,8,3))\n",
        "#np_im = im[:,:,0]\n",
        "#print(np_im.shape)"
      ],
      "metadata": {
        "colab": {
          "base_uri": "https://localhost:8080/"
        },
        "id": "xZrSKHF7PLbW",
        "outputId": "d7fa2200-3dff-4ac2-d816-3acddca6a0eb"
      },
      "execution_count": 120,
      "outputs": [
        {
          "output_type": "stream",
          "name": "stdout",
          "text": [
            "(8, 8)\n"
          ]
        }
      ]
    },
    {
      "cell_type": "code",
      "source": [
        "np_im.shape"
      ],
      "metadata": {
        "colab": {
          "base_uri": "https://localhost:8080/"
        },
        "id": "dwcG5QjkPKtk",
        "outputId": "040d8aa1-f290-4e43-d6cf-34fe3dfb4a07"
      },
      "execution_count": 177,
      "outputs": [
        {
          "output_type": "execute_result",
          "data": {
            "text/plain": [
              "(8, 8)"
            ]
          },
          "metadata": {},
          "execution_count": 177
        }
      ]
    },
    {
      "cell_type": "code",
      "source": [
        "# We need to transform this image to the same format as the images in the test and train datasets\n",
        "preprocessed_img = np_im.astype(np.float32) / 255 * 16"
      ],
      "metadata": {
        "id": "s9nT2buuBIDQ"
      },
      "execution_count": 178,
      "outputs": []
    },
    {
      "cell_type": "code",
      "source": [
        "# We also need to flatten it as we did with the training data and expand the \"batch\" dimension so that we get a list of one image\n",
        "preprocessed_img.flatten()[None].shape"
      ],
      "metadata": {
        "colab": {
          "base_uri": "https://localhost:8080/"
        },
        "id": "iG25aKyq-0t3",
        "outputId": "277848f7-2941-4cc2-a8e5-3af5a93c0b32"
      },
      "execution_count": 179,
      "outputs": [
        {
          "output_type": "execute_result",
          "data": {
            "text/plain": [
              "(1, 64)"
            ]
          },
          "metadata": {},
          "execution_count": 179
        }
      ]
    },
    {
      "cell_type": "code",
      "source": [
        "model.predict(preprocessed_img.flatten()[None])"
      ],
      "metadata": {
        "colab": {
          "base_uri": "https://localhost:8080/"
        },
        "id": "Wwq_ejAmBQyr",
        "outputId": "c4d4a4f6-69e8-44ab-82af-0d1c2644465b"
      },
      "execution_count": 180,
      "outputs": [
        {
          "output_type": "execute_result",
          "data": {
            "text/plain": [
              "array([2])"
            ]
          },
          "metadata": {},
          "execution_count": 180
        }
      ]
    },
    {
      "cell_type": "code",
      "source": [
        "np.where(y_test == 2)"
      ],
      "metadata": {
        "colab": {
          "base_uri": "https://localhost:8080/"
        },
        "id": "vWds_5RnP1yX",
        "outputId": "5e944f58-a029-4559-db48-075c12e1535d"
      },
      "execution_count": 117,
      "outputs": [
        {
          "output_type": "execute_result",
          "data": {
            "text/plain": [
              "(array([  5,  13,  14,  27,  35,  65,  66,  88,  95, 104, 119, 120, 124,\n",
              "        140, 146, 158, 164, 166, 171, 172, 201, 228, 230, 234, 238, 247,\n",
              "        250, 251, 254, 257, 283, 288, 295, 318]),)"
            ]
          },
          "metadata": {},
          "execution_count": 117
        }
      ]
    },
    {
      "cell_type": "code",
      "source": [],
      "metadata": {
        "id": "y3nt5AzXlNUX"
      },
      "execution_count": null,
      "outputs": []
    },
    {
      "cell_type": "code",
      "source": [
        "Image.fromarray((X_test[13].reshape((8,8)) / 16 * 255).astype(np.uint8), \"L\").resize((100,100), resample=Image.NEAREST)"
      ],
      "metadata": {
        "colab": {
          "base_uri": "https://localhost:8080/",
          "height": 117
        },
        "id": "bvgqLkQoP4Lq",
        "outputId": "e498f1ec-d5e3-4c95-81d0-26255c0b9371"
      },
      "execution_count": 115,
      "outputs": [
        {
          "output_type": "execute_result",
          "data": {
            "text/plain": [
              "<PIL.Image.Image image mode=L size=100x100 at 0x7F8CB5AE9A60>"
            ],
            "image/png": "[encoded data removed]"
          },
          "metadata": {},
          "execution_count": 115
        }
      ]
    },
    {
      "cell_type": "code",
      "source": [],
      "metadata": {
        "id": "oxVs_qHaQ9At"
      },
      "execution_count": null,
      "outputs": []
    }
  ]
}